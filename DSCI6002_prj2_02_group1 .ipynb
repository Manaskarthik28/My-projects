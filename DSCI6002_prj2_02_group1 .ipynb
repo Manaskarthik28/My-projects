{
 "cells": [
  {
   "cell_type": "markdown",
   "id": "b2de852a",
   "metadata": {},
   "source": [
    "<h1><center>Project</center></h1>"
   ]
  },
  {
   "cell_type": "markdown",
   "id": "ecaa4797",
   "metadata": {},
   "source": [
    "<h3><center><strong>Logistic Regression Analysis for Spam Detection</strong></center>  </h3>\n",
    "\n"
   ]
  },
  {
   "cell_type": "markdown",
   "id": "04868fe2",
   "metadata": {},
   "source": [
    "<center><strong>Submitted by:</strong></center>\n",
    "<center><strong>BOYAPALLY PAVAN REDDY</strong></center>\n",
    "<center><strong>AWOSHETTY AKHILA</strong></center>\n",
    "<center><strong>ABBURI ROHITH</strong></center>\n",
    "<center><strong>BATHALA LOKESH</strong></center>\n",
    "<center><strong>BHIRAVAJOSYULA KRISHNA SAI</strong></center>\n",
    "<center><strong>BOLLAMPALLY LOHITHKUMAR</strong></center>"
   ]
  },
  {
   "cell_type": "markdown",
   "id": "5e20b2f3",
   "metadata": {},
   "source": [
    "<h3><center>Abstract</center></h3>"
   ]
  },
  {
   "cell_type": "markdown",
   "id": "a47f77be",
   "metadata": {},
   "source": [
    "This research introduces a flexible regression model specifically tailored for identifying spam emails by examining certain characteristics of the emails. Using logistic regression, which is renowned for its effectiveness in categorizing data across both discrete and continuous spectrums, this model skillfully examines how various unbiased factors influence binary outcomes. By applying linear regression elements to a logit scale, it's able to determine the most effective combinations for identifying specific outcomes and create a probability map to classify different data points.\n",
    "\n",
    "In logistic regression, it's essential to pay attention to the process of feature engineering, adherence to the model's assumptions, and the choice of the right modeling strategy. The selection of variables is informed by established theories, previous studies, clinical insights, and statistical analyses, ensuring that key assumptions such as the independence of errors, linearity in the logit, absence of multicollinearity, and no significant outliers are met. It's also important to have a sufficient number of events for each independent variable, typically around 10 to 20, to avoid the risk of overfitting the model.\n",
    "\n",
    "Different modeling strategies include direct/standard, sequential/hierarchical, and step/statistical methods, each focusing on specific attributes. Before reaching any conclusions, the model's internal and external values are measured to assess its replicability and generalizability. The model's fit to the sample data is evaluated using various goodness-of-fit metrics and diagnostic statistics, and the results for independent variables are presented as odds ratios (ORs) and 95% confidence intervals (CIs).\n",
    "\n",
    "Following the CRISP-DM methodology, which is an iterative approach to data analysis, the study culminates in a logistic regression model that shows good accuracy in detecting spam. This model gives equal importance to both sensitivity and specificity, ensuring a trustworthy evaluation of its performance."
   ]
  },
  {
   "cell_type": "markdown",
   "id": "fc5011a6",
   "metadata": {},
   "source": [
    "<h3><center>Theory</center></h3>"
   ]
  },
  {
   "cell_type": "markdown",
   "id": "1934942d",
   "metadata": {},
   "source": [
    "Foundations of Email Classification:\n",
    "The first theoretical aspect of this project revolves around the classification of emails, a process that involves categorizing emails into distinct groups based on specific characteristics. In the digital age, where email communication is prolific, the ability to accurately classify emails has become increasingly important. This classification is not just binary (spam or not spam) but can extend to categorizing emails by purpose, urgency, or sender type. The foundation of this theory lies in text analysis and pattern recognition, which allows us to dissect the content of emails and identify distinguishing features. These features could range from specific keywords and phrases to more complex patterns like email structures or sender-recipient relationships.\n",
    "\n",
    "Spam Detection Techniques:\n",
    "The second pillar of this theory is focused specifically on spam detection, a critical challenge in email management. Spam emails are not just a nuisance but can pose significant security risks. The theory behind spam detection hinges on the identification of certain markers or indicators that are commonly present in spam emails. This could include the frequent occurrence of certain words, phrases, or even metadata patterns like unusual sending times. Advanced techniques in this area involve machine learning algorithms that learn from large datasets of known spam and non-spam emails. These algorithms, such as logistic regression, neural networks, or support vector machines, are trained to recognize and predict spam emails with high accuracy.\n",
    "\n",
    "Balancing Accuracy and Usability in Spam Filters:\n",
    "The final theoretical aspect concerns the balance between the accuracy of spam detection and the usability of email systems. A highly aggressive spam filter might block too many legitimate emails, whereas a lenient one allows too much spam. This balance is crucial for user trust and efficiency. The theory here delves into optimization techniques to fine-tune spam filters. This includes not just improving the accuracy of spam detection but also ensuring that legitimate emails are not falsely classified as spam. The challenge lies in developing adaptive systems that can learn from user feedback and continuously improve over time. This theory also considers the user experience, ensuring that spam filters are user-friendly and do not hinder the overall email management process."
   ]
  },
  {
   "cell_type": "code",
   "execution_count": 46,
   "id": "b35a7829",
   "metadata": {},
   "outputs": [],
   "source": [
    "import sqlite3\n",
    "import pandas as pd\n",
    "# importing necessary libraries\n",
    "\n",
    "import numpy as np\n",
    "import matplotlib.pyplot as plt\n",
    "import seaborn as sns\n",
    "import statsmodels.api as sm\n",
    "import math\n",
    "from patsy import dmatrices\n",
    "from sklearn.model_selection import train_test_split\n",
    "import warnings \n",
    "warnings.filterwarnings('ignore')"
   ]
  },
  {
   "cell_type": "code",
   "execution_count": 47,
   "id": "b39c57dc",
   "metadata": {},
   "outputs": [],
   "source": [
    "db_connect = sqlite3.connect(\"DSCI6002_prj2_data.db\")"
   ]
  },
  {
   "cell_type": "code",
   "execution_count": 48,
   "id": "55462bf5",
   "metadata": {},
   "outputs": [],
   "source": [
    "sql_query = \"\"\"SELECT name FROM sqlite_master WHERE type = 'table' ; \"\"\"\n",
    "cursor = db_connect.cursor()"
   ]
  },
  {
   "cell_type": "code",
   "execution_count": 117,
   "id": "5fca204c",
   "metadata": {},
   "outputs": [
    {
     "name": "stdout",
     "output_type": "stream",
     "text": [
      "List of tables\n",
      "\n",
      "[('prj2',)]\n"
     ]
    },
    {
     "data": {
      "text/html": [
       "<div>\n",
       "<style scoped>\n",
       "    .dataframe tbody tr th:only-of-type {\n",
       "        vertical-align: middle;\n",
       "    }\n",
       "\n",
       "    .dataframe tbody tr th {\n",
       "        vertical-align: top;\n",
       "    }\n",
       "\n",
       "    .dataframe thead th {\n",
       "        text-align: right;\n",
       "    }\n",
       "</style>\n",
       "<table border=\"1\" class=\"dataframe\">\n",
       "  <thead>\n",
       "    <tr style=\"text-align: right;\">\n",
       "      <th></th>\n",
       "      <th>index</th>\n",
       "      <th>spam</th>\n",
       "      <th>to_multiple</th>\n",
       "      <th>from</th>\n",
       "      <th>cc</th>\n",
       "      <th>sent_email</th>\n",
       "      <th>time</th>\n",
       "      <th>image</th>\n",
       "      <th>attach</th>\n",
       "      <th>dollar</th>\n",
       "      <th>...</th>\n",
       "      <th>viagra</th>\n",
       "      <th>password</th>\n",
       "      <th>num_char</th>\n",
       "      <th>line_breaks</th>\n",
       "      <th>format</th>\n",
       "      <th>re_subj</th>\n",
       "      <th>exclaim_subj</th>\n",
       "      <th>urgent_subj</th>\n",
       "      <th>exclaim_mess</th>\n",
       "      <th>number</th>\n",
       "    </tr>\n",
       "  </thead>\n",
       "  <tbody>\n",
       "    <tr>\n",
       "      <th>0</th>\n",
       "      <td>0</td>\n",
       "      <td>0</td>\n",
       "      <td>0</td>\n",
       "      <td>1</td>\n",
       "      <td>0</td>\n",
       "      <td>0</td>\n",
       "      <td>2011-12-31 22:16:41</td>\n",
       "      <td>0</td>\n",
       "      <td>0</td>\n",
       "      <td>0</td>\n",
       "      <td>...</td>\n",
       "      <td>0</td>\n",
       "      <td>0</td>\n",
       "      <td>11.370</td>\n",
       "      <td>202</td>\n",
       "      <td>1</td>\n",
       "      <td>0</td>\n",
       "      <td>0</td>\n",
       "      <td>0</td>\n",
       "      <td>0</td>\n",
       "      <td>big</td>\n",
       "    </tr>\n",
       "    <tr>\n",
       "      <th>1</th>\n",
       "      <td>1</td>\n",
       "      <td>0</td>\n",
       "      <td>0</td>\n",
       "      <td>1</td>\n",
       "      <td>0</td>\n",
       "      <td>0</td>\n",
       "      <td>2011-12-31 23:03:59</td>\n",
       "      <td>0</td>\n",
       "      <td>0</td>\n",
       "      <td>0</td>\n",
       "      <td>...</td>\n",
       "      <td>0</td>\n",
       "      <td>0</td>\n",
       "      <td>10.504</td>\n",
       "      <td>202</td>\n",
       "      <td>1</td>\n",
       "      <td>0</td>\n",
       "      <td>0</td>\n",
       "      <td>0</td>\n",
       "      <td>1</td>\n",
       "      <td>small</td>\n",
       "    </tr>\n",
       "    <tr>\n",
       "      <th>2</th>\n",
       "      <td>2</td>\n",
       "      <td>0</td>\n",
       "      <td>0</td>\n",
       "      <td>1</td>\n",
       "      <td>0</td>\n",
       "      <td>0</td>\n",
       "      <td>2012-01-01 08:00:32</td>\n",
       "      <td>0</td>\n",
       "      <td>0</td>\n",
       "      <td>4</td>\n",
       "      <td>...</td>\n",
       "      <td>0</td>\n",
       "      <td>0</td>\n",
       "      <td>7.773</td>\n",
       "      <td>192</td>\n",
       "      <td>1</td>\n",
       "      <td>0</td>\n",
       "      <td>0</td>\n",
       "      <td>0</td>\n",
       "      <td>6</td>\n",
       "      <td>small</td>\n",
       "    </tr>\n",
       "    <tr>\n",
       "      <th>3</th>\n",
       "      <td>3</td>\n",
       "      <td>0</td>\n",
       "      <td>0</td>\n",
       "      <td>1</td>\n",
       "      <td>0</td>\n",
       "      <td>0</td>\n",
       "      <td>2012-01-01 01:09:49</td>\n",
       "      <td>0</td>\n",
       "      <td>0</td>\n",
       "      <td>0</td>\n",
       "      <td>...</td>\n",
       "      <td>0</td>\n",
       "      <td>0</td>\n",
       "      <td>13.256</td>\n",
       "      <td>255</td>\n",
       "      <td>1</td>\n",
       "      <td>0</td>\n",
       "      <td>0</td>\n",
       "      <td>0</td>\n",
       "      <td>48</td>\n",
       "      <td>small</td>\n",
       "    </tr>\n",
       "    <tr>\n",
       "      <th>4</th>\n",
       "      <td>4</td>\n",
       "      <td>0</td>\n",
       "      <td>0</td>\n",
       "      <td>1</td>\n",
       "      <td>0</td>\n",
       "      <td>0</td>\n",
       "      <td>2012-01-01 02:00:01</td>\n",
       "      <td>0</td>\n",
       "      <td>0</td>\n",
       "      <td>0</td>\n",
       "      <td>...</td>\n",
       "      <td>0</td>\n",
       "      <td>2</td>\n",
       "      <td>1.231</td>\n",
       "      <td>29</td>\n",
       "      <td>0</td>\n",
       "      <td>0</td>\n",
       "      <td>0</td>\n",
       "      <td>0</td>\n",
       "      <td>1</td>\n",
       "      <td>none</td>\n",
       "    </tr>\n",
       "    <tr>\n",
       "      <th>...</th>\n",
       "      <td>...</td>\n",
       "      <td>...</td>\n",
       "      <td>...</td>\n",
       "      <td>...</td>\n",
       "      <td>...</td>\n",
       "      <td>...</td>\n",
       "      <td>...</td>\n",
       "      <td>...</td>\n",
       "      <td>...</td>\n",
       "      <td>...</td>\n",
       "      <td>...</td>\n",
       "      <td>...</td>\n",
       "      <td>...</td>\n",
       "      <td>...</td>\n",
       "      <td>...</td>\n",
       "      <td>...</td>\n",
       "      <td>...</td>\n",
       "      <td>...</td>\n",
       "      <td>...</td>\n",
       "      <td>...</td>\n",
       "      <td>...</td>\n",
       "    </tr>\n",
       "    <tr>\n",
       "      <th>3916</th>\n",
       "      <td>3916</td>\n",
       "      <td>1</td>\n",
       "      <td>0</td>\n",
       "      <td>1</td>\n",
       "      <td>0</td>\n",
       "      <td>0</td>\n",
       "      <td>2012-03-30 17:03:45</td>\n",
       "      <td>0</td>\n",
       "      <td>0</td>\n",
       "      <td>0</td>\n",
       "      <td>...</td>\n",
       "      <td>0</td>\n",
       "      <td>0</td>\n",
       "      <td>0.332</td>\n",
       "      <td>12</td>\n",
       "      <td>0</td>\n",
       "      <td>0</td>\n",
       "      <td>0</td>\n",
       "      <td>0</td>\n",
       "      <td>0</td>\n",
       "      <td>small</td>\n",
       "    </tr>\n",
       "    <tr>\n",
       "      <th>3917</th>\n",
       "      <td>3917</td>\n",
       "      <td>1</td>\n",
       "      <td>0</td>\n",
       "      <td>1</td>\n",
       "      <td>0</td>\n",
       "      <td>0</td>\n",
       "      <td>2012-03-31 07:13:19</td>\n",
       "      <td>0</td>\n",
       "      <td>0</td>\n",
       "      <td>1</td>\n",
       "      <td>...</td>\n",
       "      <td>0</td>\n",
       "      <td>0</td>\n",
       "      <td>0.323</td>\n",
       "      <td>15</td>\n",
       "      <td>0</td>\n",
       "      <td>0</td>\n",
       "      <td>0</td>\n",
       "      <td>0</td>\n",
       "      <td>0</td>\n",
       "      <td>small</td>\n",
       "    </tr>\n",
       "    <tr>\n",
       "      <th>3918</th>\n",
       "      <td>3918</td>\n",
       "      <td>0</td>\n",
       "      <td>1</td>\n",
       "      <td>1</td>\n",
       "      <td>0</td>\n",
       "      <td>0</td>\n",
       "      <td>2012-03-30 09:20:33</td>\n",
       "      <td>0</td>\n",
       "      <td>0</td>\n",
       "      <td>0</td>\n",
       "      <td>...</td>\n",
       "      <td>0</td>\n",
       "      <td>0</td>\n",
       "      <td>8.656</td>\n",
       "      <td>208</td>\n",
       "      <td>1</td>\n",
       "      <td>0</td>\n",
       "      <td>0</td>\n",
       "      <td>0</td>\n",
       "      <td>5</td>\n",
       "      <td>small</td>\n",
       "    </tr>\n",
       "    <tr>\n",
       "      <th>3919</th>\n",
       "      <td>3919</td>\n",
       "      <td>0</td>\n",
       "      <td>1</td>\n",
       "      <td>1</td>\n",
       "      <td>0</td>\n",
       "      <td>0</td>\n",
       "      <td>2012-03-28 09:00:49</td>\n",
       "      <td>0</td>\n",
       "      <td>0</td>\n",
       "      <td>0</td>\n",
       "      <td>...</td>\n",
       "      <td>0</td>\n",
       "      <td>0</td>\n",
       "      <td>10.185</td>\n",
       "      <td>132</td>\n",
       "      <td>0</td>\n",
       "      <td>0</td>\n",
       "      <td>0</td>\n",
       "      <td>0</td>\n",
       "      <td>0</td>\n",
       "      <td>small</td>\n",
       "    </tr>\n",
       "    <tr>\n",
       "      <th>3920</th>\n",
       "      <td>3920</td>\n",
       "      <td>1</td>\n",
       "      <td>0</td>\n",
       "      <td>1</td>\n",
       "      <td>0</td>\n",
       "      <td>0</td>\n",
       "      <td>2012-03-31 02:20:24</td>\n",
       "      <td>0</td>\n",
       "      <td>0</td>\n",
       "      <td>2</td>\n",
       "      <td>...</td>\n",
       "      <td>0</td>\n",
       "      <td>0</td>\n",
       "      <td>2.225</td>\n",
       "      <td>65</td>\n",
       "      <td>0</td>\n",
       "      <td>0</td>\n",
       "      <td>1</td>\n",
       "      <td>0</td>\n",
       "      <td>1</td>\n",
       "      <td>small</td>\n",
       "    </tr>\n",
       "  </tbody>\n",
       "</table>\n",
       "<p>3921 rows × 22 columns</p>\n",
       "</div>"
      ],
      "text/plain": [
       "      index  spam  to_multiple  from  cc  sent_email                 time  \\\n",
       "0         0     0            0     1   0           0  2011-12-31 22:16:41   \n",
       "1         1     0            0     1   0           0  2011-12-31 23:03:59   \n",
       "2         2     0            0     1   0           0  2012-01-01 08:00:32   \n",
       "3         3     0            0     1   0           0  2012-01-01 01:09:49   \n",
       "4         4     0            0     1   0           0  2012-01-01 02:00:01   \n",
       "...     ...   ...          ...   ...  ..         ...                  ...   \n",
       "3916   3916     1            0     1   0           0  2012-03-30 17:03:45   \n",
       "3917   3917     1            0     1   0           0  2012-03-31 07:13:19   \n",
       "3918   3918     0            1     1   0           0  2012-03-30 09:20:33   \n",
       "3919   3919     0            1     1   0           0  2012-03-28 09:00:49   \n",
       "3920   3920     1            0     1   0           0  2012-03-31 02:20:24   \n",
       "\n",
       "      image  attach  dollar  ... viagra  password  num_char  line_breaks  \\\n",
       "0         0       0       0  ...      0         0    11.370          202   \n",
       "1         0       0       0  ...      0         0    10.504          202   \n",
       "2         0       0       4  ...      0         0     7.773          192   \n",
       "3         0       0       0  ...      0         0    13.256          255   \n",
       "4         0       0       0  ...      0         2     1.231           29   \n",
       "...     ...     ...     ...  ...    ...       ...       ...          ...   \n",
       "3916      0       0       0  ...      0         0     0.332           12   \n",
       "3917      0       0       1  ...      0         0     0.323           15   \n",
       "3918      0       0       0  ...      0         0     8.656          208   \n",
       "3919      0       0       0  ...      0         0    10.185          132   \n",
       "3920      0       0       2  ...      0         0     2.225           65   \n",
       "\n",
       "      format  re_subj  exclaim_subj  urgent_subj  exclaim_mess  number  \n",
       "0          1        0             0            0             0     big  \n",
       "1          1        0             0            0             1   small  \n",
       "2          1        0             0            0             6   small  \n",
       "3          1        0             0            0            48   small  \n",
       "4          0        0             0            0             1    none  \n",
       "...      ...      ...           ...          ...           ...     ...  \n",
       "3916       0        0             0            0             0   small  \n",
       "3917       0        0             0            0             0   small  \n",
       "3918       1        0             0            0             5   small  \n",
       "3919       0        0             0            0             0   small  \n",
       "3920       0        0             1            0             1   small  \n",
       "\n",
       "[3921 rows x 22 columns]"
      ]
     },
     "execution_count": 117,
     "metadata": {},
     "output_type": "execute_result"
    }
   ],
   "source": [
    "cursor.execute(sql_query)\n",
    "print(\"List of tables\\n\")\n",
    "print(cursor.fetchall())\n",
    "df = pd.read_sql_query(\"SELECT * from prj2\", db_connect)\n",
    "df"
   ]
  },
  {
   "cell_type": "code",
   "execution_count": 118,
   "id": "1c9905a0",
   "metadata": {
    "scrolled": true
   },
   "outputs": [],
   "source": [
    "# Read data from the specified table into a DataFrame\n",
    "data_frame = pd.read_sql_query(\"SELECT * FROM prj2\", db_connect)\n"
   ]
  },
  {
   "cell_type": "code",
   "execution_count": 119,
   "id": "cd3bd465",
   "metadata": {},
   "outputs": [
    {
     "data": {
      "text/plain": [
       "3921"
      ]
     },
     "execution_count": 119,
     "metadata": {},
     "output_type": "execute_result"
    }
   ],
   "source": [
    "df.shape[0]"
   ]
  },
  {
   "cell_type": "code",
   "execution_count": 120,
   "id": "65c37f88",
   "metadata": {},
   "outputs": [
    {
     "data": {
      "text/plain": [
       "Index(['index', 'spam', 'to_multiple', 'from', 'cc', 'sent_email', 'time',\n",
       "       'image', 'attach', 'dollar', 'winner', 'inherit', 'viagra', 'password',\n",
       "       'num_char', 'line_breaks', 'format', 're_subj', 'exclaim_subj',\n",
       "       'urgent_subj', 'exclaim_mess', 'number'],\n",
       "      dtype='object')"
      ]
     },
     "execution_count": 120,
     "metadata": {},
     "output_type": "execute_result"
    }
   ],
   "source": [
    "df.columns"
   ]
  },
  {
   "cell_type": "markdown",
   "id": "20229b20",
   "metadata": {},
   "source": [
    "<h3><center>Exploratory Data analysis,</center></h3>"
   ]
  },
  {
   "cell_type": "markdown",
   "id": "a7149f38",
   "metadata": {},
   "source": [
    "This dataset includes various features to determine if an email is spam or not:\n",
    "\n",
    "- `spam`: A flag indicating if the email is spam.\n",
    "- `to_multiple`: Shows if the email was sent to multiple recipients.\n",
    "- `from`: Indicates if the email has a sender (common in regular outgoing emails).\n",
    "- `cc`: Marks if the email was carbon copied to others.\n",
    "- `sent_email`: Notes if the sender had sent an email in the past 30 days.\n",
    "- `Time`: The time the email was sent.\n",
    "- `Image`: Counts the number of images attached to the email.\n",
    "- `attach`: A flag for any attachments, like documents or images.\n",
    "- `dollar`: Indicates the presence of the word “dollar” or the $ symbol.\n",
    "- `winner`: Flags the use of the word “winner” in the email.\n",
    "- `inherit`: Marks if words like “inherit” or “inheritance” are used.\n",
    "- `viagra`: Counts the occurrences of the word “viagra”.\n",
    "- `num_char`: The total characters in the email, in thousands.\n",
    "- `line_breaks`: The number of line breaks (excluding text wrapping).\n",
    "- `password`: Indicates if the word “password” is mentioned.\n",
    "- `format`: Shows if the email uses special formatting, like bolding or links.\n",
    "- `urgent_subj`: Flags if “urgent” is in the subject line.\n",
    "- `exclaim_mess`: The count of exclamation points in the message.\n",
    "- `re_subj`: Indicates if the subject starts with “Re:”.\n",
    "- `exclaim_subj`: Shows if there's an exclamation point in the subject."
   ]
  },
  {
   "cell_type": "code",
   "execution_count": 121,
   "id": "c4a6d402",
   "metadata": {},
   "outputs": [
    {
     "data": {
      "text/plain": [
       "index             int64\n",
       "spam              int64\n",
       "to_multiple       int64\n",
       "from              int64\n",
       "cc                int64\n",
       "sent_email        int64\n",
       "time             object\n",
       "image             int64\n",
       "attach            int64\n",
       "dollar            int64\n",
       "winner           object\n",
       "inherit           int64\n",
       "viagra            int64\n",
       "password          int64\n",
       "num_char        float64\n",
       "line_breaks       int64\n",
       "format            int64\n",
       "re_subj           int64\n",
       "exclaim_subj      int64\n",
       "urgent_subj       int64\n",
       "exclaim_mess      int64\n",
       "number           object\n",
       "dtype: object"
      ]
     },
     "execution_count": 121,
     "metadata": {},
     "output_type": "execute_result"
    }
   ],
   "source": [
    "# check data types\n",
    "df.dtypes"
   ]
  },
  {
   "cell_type": "code",
   "execution_count": 122,
   "id": "55168e88",
   "metadata": {},
   "outputs": [
    {
     "data": {
      "text/plain": [
       "index           0\n",
       "spam            0\n",
       "to_multiple     0\n",
       "from            0\n",
       "cc              0\n",
       "sent_email      0\n",
       "time            0\n",
       "image           0\n",
       "attach          0\n",
       "dollar          0\n",
       "winner          0\n",
       "inherit         0\n",
       "viagra          0\n",
       "password        0\n",
       "num_char        0\n",
       "line_breaks     0\n",
       "format          0\n",
       "re_subj         0\n",
       "exclaim_subj    0\n",
       "urgent_subj     0\n",
       "exclaim_mess    0\n",
       "number          0\n",
       "dtype: int64"
      ]
     },
     "execution_count": 122,
     "metadata": {},
     "output_type": "execute_result"
    }
   ],
   "source": [
    "df.isnull().sum()"
   ]
  },
  {
   "cell_type": "markdown",
   "id": "ec36296e",
   "metadata": {},
   "source": [
    "There is no null values in the dataset"
   ]
  },
  {
   "cell_type": "code",
   "execution_count": 123,
   "id": "4c64fd19",
   "metadata": {},
   "outputs": [
    {
     "data": {
      "text/html": [
       "<div>\n",
       "<style scoped>\n",
       "    .dataframe tbody tr th:only-of-type {\n",
       "        vertical-align: middle;\n",
       "    }\n",
       "\n",
       "    .dataframe tbody tr th {\n",
       "        vertical-align: top;\n",
       "    }\n",
       "\n",
       "    .dataframe thead th {\n",
       "        text-align: right;\n",
       "    }\n",
       "</style>\n",
       "<table border=\"1\" class=\"dataframe\">\n",
       "  <thead>\n",
       "    <tr style=\"text-align: right;\">\n",
       "      <th></th>\n",
       "      <th>index</th>\n",
       "      <th>spam</th>\n",
       "      <th>to_multiple</th>\n",
       "      <th>from</th>\n",
       "      <th>cc</th>\n",
       "      <th>sent_email</th>\n",
       "      <th>time</th>\n",
       "      <th>image</th>\n",
       "      <th>attach</th>\n",
       "      <th>dollar</th>\n",
       "      <th>...</th>\n",
       "      <th>viagra</th>\n",
       "      <th>password</th>\n",
       "      <th>num_char</th>\n",
       "      <th>line_breaks</th>\n",
       "      <th>format</th>\n",
       "      <th>re_subj</th>\n",
       "      <th>exclaim_subj</th>\n",
       "      <th>urgent_subj</th>\n",
       "      <th>exclaim_mess</th>\n",
       "      <th>number</th>\n",
       "    </tr>\n",
       "  </thead>\n",
       "  <tbody>\n",
       "  </tbody>\n",
       "</table>\n",
       "<p>0 rows × 22 columns</p>\n",
       "</div>"
      ],
      "text/plain": [
       "Empty DataFrame\n",
       "Columns: [index, spam, to_multiple, from, cc, sent_email, time, image, attach, dollar, winner, inherit, viagra, password, num_char, line_breaks, format, re_subj, exclaim_subj, urgent_subj, exclaim_mess, number]\n",
       "Index: []\n",
       "\n",
       "[0 rows x 22 columns]"
      ]
     },
     "execution_count": 123,
     "metadata": {},
     "output_type": "execute_result"
    }
   ],
   "source": [
    "df[df['num_char']<0]"
   ]
  },
  {
   "cell_type": "markdown",
   "id": "c1b16acd",
   "metadata": {},
   "source": [
    "Two columns, *image* and *attachment*, require examination to determine whether an image is classified as an attachment. Based on the following assessment, we can conclude that images are indeed treated as attachments, given that the image count consistently falls below the attachment count."
   ]
  },
  {
   "cell_type": "code",
   "execution_count": 124,
   "id": "c7ec707c",
   "metadata": {},
   "outputs": [
    {
     "data": {
      "text/html": [
       "<div>\n",
       "<style scoped>\n",
       "    .dataframe tbody tr th:only-of-type {\n",
       "        vertical-align: middle;\n",
       "    }\n",
       "\n",
       "    .dataframe tbody tr th {\n",
       "        vertical-align: top;\n",
       "    }\n",
       "\n",
       "    .dataframe thead th {\n",
       "        text-align: right;\n",
       "    }\n",
       "</style>\n",
       "<table border=\"1\" class=\"dataframe\">\n",
       "  <thead>\n",
       "    <tr style=\"text-align: right;\">\n",
       "      <th></th>\n",
       "      <th>index</th>\n",
       "      <th>spam</th>\n",
       "      <th>to_multiple</th>\n",
       "      <th>from</th>\n",
       "      <th>cc</th>\n",
       "      <th>sent_email</th>\n",
       "      <th>time</th>\n",
       "      <th>image</th>\n",
       "      <th>attach</th>\n",
       "      <th>dollar</th>\n",
       "      <th>...</th>\n",
       "      <th>viagra</th>\n",
       "      <th>password</th>\n",
       "      <th>num_char</th>\n",
       "      <th>line_breaks</th>\n",
       "      <th>format</th>\n",
       "      <th>re_subj</th>\n",
       "      <th>exclaim_subj</th>\n",
       "      <th>urgent_subj</th>\n",
       "      <th>exclaim_mess</th>\n",
       "      <th>number</th>\n",
       "    </tr>\n",
       "  </thead>\n",
       "  <tbody>\n",
       "  </tbody>\n",
       "</table>\n",
       "<p>0 rows × 22 columns</p>\n",
       "</div>"
      ],
      "text/plain": [
       "Empty DataFrame\n",
       "Columns: [index, spam, to_multiple, from, cc, sent_email, time, image, attach, dollar, winner, inherit, viagra, password, num_char, line_breaks, format, re_subj, exclaim_subj, urgent_subj, exclaim_mess, number]\n",
       "Index: []\n",
       "\n",
       "[0 rows x 22 columns]"
      ]
     },
     "execution_count": 124,
     "metadata": {},
     "output_type": "execute_result"
    }
   ],
   "source": [
    "df[df['attach']<df['image']]"
   ]
  },
  {
   "cell_type": "code",
   "execution_count": 125,
   "id": "618f14f4",
   "metadata": {
    "scrolled": true
   },
   "outputs": [
    {
     "data": {
      "text/plain": [
       "spam\n",
       "0    6.831\n",
       "1    1.046\n",
       "Name: num_char, dtype: float64"
      ]
     },
     "execution_count": 125,
     "metadata": {},
     "output_type": "execute_result"
    }
   ],
   "source": [
    "df.groupby('spam').median()['num_char']"
   ]
  },
  {
   "cell_type": "code",
   "execution_count": 126,
   "id": "654c8053",
   "metadata": {},
   "outputs": [
    {
     "data": {
      "image/png": "[encoded data removed]",
      "text/plain": [
       "<Figure size 750x350 with 1 Axes>"
      ]
     },
     "metadata": {},
     "output_type": "display_data"
    }
   ],
   "source": [
    "import numpy as np\n",
    "#df[df['spam']==0]['log_num_char'].values.tolist()\n",
    "df1 = df[['spam']].copy()\n",
    "df1['log_num_char'] = np.log(df['num_char'])\n",
    "\n",
    "from matplotlib import pyplot as plt\n",
    "\n",
    "plt.rcParams[\"figure.figsize\"] = [7.50, 3.50]\n",
    "plt.rcParams[\"figure.autolayout\"] = True\n",
    "\n",
    "data = {'not spam': df1[df1['spam']==0]['log_num_char'].values.tolist(), 'spam': df1[df1['spam']==1]['log_num_char'].values.tolist()}\n",
    "\n",
    "fig, ax = plt.subplots()\n",
    "\n",
    "ax.boxplot(data.values())\n",
    "ax.set_xticklabels(data.keys())\n",
    "ax.set_ylabel('log_num_char')\n",
    "\n",
    "plt.show()"
   ]
  },
  {
   "cell_type": "code",
   "execution_count": 127,
   "id": "fa6fd39e",
   "metadata": {},
   "outputs": [
    {
     "data": {
      "image/png": "[encoded data removed]",
      "text/plain": [
       "<Figure size 750x350 with 1 Axes>"
      ]
     },
     "metadata": {},
     "output_type": "display_data"
    }
   ],
   "source": [
    "df1 = df[['spam']].copy()\n",
    "df1['exclaim_mess'] = np.log(df['exclaim_mess'])\n",
    "\n",
    "from matplotlib import pyplot as plt\n",
    "\n",
    "plt.rcParams[\"figure.figsize\"] = [7.50, 3.50]\n",
    "plt.rcParams[\"figure.autolayout\"] = True\n",
    "\n",
    "data = {'spam': df1[df1['spam']==0]['exclaim_mess'].values.tolist(), 'not spam': df1[df1['spam']==1]['exclaim_mess'].values.tolist()}\n",
    "\n",
    "fig, ax = plt.subplots()\n",
    "\n",
    "ax.boxplot(data.values())\n",
    "ax.set_xticklabels(data.keys())\n",
    "ax.set_ylabel('exclaim_mess')\n",
    "plt.show()"
   ]
  },
  {
   "cell_type": "markdown",
   "id": "30329e9d",
   "metadata": {},
   "source": [
    "In this context, as the logarithm of 0 results in infinity, we introduce a small value of 0.00001 to facilitate graph plotting."
   ]
  },
  {
   "cell_type": "code",
   "execution_count": 128,
   "id": "2ccf8948",
   "metadata": {},
   "outputs": [
    {
     "data": {
      "image/png": "[encoded data removed]",
      "text/plain": [
       "<Figure size 750x350 with 1 Axes>"
      ]
     },
     "metadata": {},
     "output_type": "display_data"
    }
   ],
   "source": [
    "df1 = df[['spam']].copy()\n",
    "df1['exclaim_mess'] = np.log(df['exclaim_mess']+0.00001)\n",
    "\n",
    "from matplotlib import pyplot as plt\n",
    "\n",
    "plt.rcParams[\"figure.figsize\"] = [7.50, 3.50]\n",
    "plt.rcParams[\"figure.autolayout\"] = True\n",
    "\n",
    "data = {'not spam': df1[df1['spam']==0]['exclaim_mess'].values.tolist(), 'spam': df1[df1['spam']==1]['exclaim_mess'].values.tolist()}\n",
    "\n",
    "fig, ax = plt.subplots()\n",
    "\n",
    "ax.boxplot(data.values())\n",
    "ax.set_xticklabels(data.keys())\n",
    "ax.set_ylabel('exclaim_mess')\n",
    "\n",
    "plt.show()"
   ]
  },
  {
   "cell_type": "markdown",
   "id": "083a78f2",
   "metadata": {},
   "source": [
    "<h3><center>Spam and image</center></h3>"
   ]
  },
  {
   "cell_type": "markdown",
   "id": "af51d2c8",
   "metadata": {},
   "source": [
    "Due to the significant skewness in the number of images, we will transform it into a categorical variable, indicating whether the email contains an image (1) or not.\n",
    "\n",
    "According to the findings, emails lacking images are more likely to be non-spam than spam."
   ]
  },
  {
   "cell_type": "code",
   "execution_count": 129,
   "id": "9ec69b53",
   "metadata": {},
   "outputs": [
    {
     "data": {
      "text/html": [
       "<div>\n",
       "<style scoped>\n",
       "    .dataframe tbody tr th:only-of-type {\n",
       "        vertical-align: middle;\n",
       "    }\n",
       "\n",
       "    .dataframe tbody tr th {\n",
       "        vertical-align: top;\n",
       "    }\n",
       "\n",
       "    .dataframe thead th {\n",
       "        text-align: right;\n",
       "    }\n",
       "</style>\n",
       "<table border=\"1\" class=\"dataframe\">\n",
       "  <thead>\n",
       "    <tr style=\"text-align: right;\">\n",
       "      <th>image</th>\n",
       "      <th>0</th>\n",
       "      <th>1</th>\n",
       "      <th>2</th>\n",
       "      <th>3</th>\n",
       "      <th>4</th>\n",
       "      <th>5</th>\n",
       "      <th>9</th>\n",
       "      <th>20</th>\n",
       "    </tr>\n",
       "    <tr>\n",
       "      <th>spam</th>\n",
       "      <th></th>\n",
       "      <th></th>\n",
       "      <th></th>\n",
       "      <th></th>\n",
       "      <th></th>\n",
       "      <th></th>\n",
       "      <th></th>\n",
       "      <th></th>\n",
       "    </tr>\n",
       "  </thead>\n",
       "  <tbody>\n",
       "    <tr>\n",
       "      <th>0</th>\n",
       "      <td>3446</td>\n",
       "      <td>74</td>\n",
       "      <td>17</td>\n",
       "      <td>11</td>\n",
       "      <td>2</td>\n",
       "      <td>2</td>\n",
       "      <td>1</td>\n",
       "      <td>1</td>\n",
       "    </tr>\n",
       "    <tr>\n",
       "      <th>1</th>\n",
       "      <td>365</td>\n",
       "      <td>2</td>\n",
       "      <td>0</td>\n",
       "      <td>0</td>\n",
       "      <td>0</td>\n",
       "      <td>0</td>\n",
       "      <td>0</td>\n",
       "      <td>0</td>\n",
       "    </tr>\n",
       "  </tbody>\n",
       "</table>\n",
       "</div>"
      ],
      "text/plain": [
       "image    0   1   2   3   4   5   9   20\n",
       "spam                                   \n",
       "0      3446  74  17  11   2   2   1   1\n",
       "1       365   2   0   0   0   0   0   0"
      ]
     },
     "execution_count": 129,
     "metadata": {},
     "output_type": "execute_result"
    }
   ],
   "source": [
    "pd.crosstab(df.spam,df.image)"
   ]
  },
  {
   "cell_type": "code",
   "execution_count": 130,
   "id": "31151c23",
   "metadata": {},
   "outputs": [
    {
     "data": {
      "text/html": [
       "<div>\n",
       "<style scoped>\n",
       "    .dataframe tbody tr th:only-of-type {\n",
       "        vertical-align: middle;\n",
       "    }\n",
       "\n",
       "    .dataframe tbody tr th {\n",
       "        vertical-align: top;\n",
       "    }\n",
       "\n",
       "    .dataframe thead th {\n",
       "        text-align: right;\n",
       "    }\n",
       "</style>\n",
       "<table border=\"1\" class=\"dataframe\">\n",
       "  <thead>\n",
       "    <tr style=\"text-align: right;\">\n",
       "      <th>col_0</th>\n",
       "      <th>0</th>\n",
       "      <th>1</th>\n",
       "    </tr>\n",
       "    <tr>\n",
       "      <th>spam</th>\n",
       "      <th></th>\n",
       "      <th></th>\n",
       "    </tr>\n",
       "  </thead>\n",
       "  <tbody>\n",
       "    <tr>\n",
       "      <th>0</th>\n",
       "      <td>3446</td>\n",
       "      <td>108</td>\n",
       "    </tr>\n",
       "    <tr>\n",
       "      <th>1</th>\n",
       "      <td>365</td>\n",
       "      <td>2</td>\n",
       "    </tr>\n",
       "  </tbody>\n",
       "</table>\n",
       "</div>"
      ],
      "text/plain": [
       "col_0     0    1\n",
       "spam            \n",
       "0      3446  108\n",
       "1       365    2"
      ]
     },
     "execution_count": 130,
     "metadata": {},
     "output_type": "execute_result"
    }
   ],
   "source": [
    "pd.crosstab(df.spam,np.where(df[\"image\"] == 0, 0, 1))"
   ]
  },
  {
   "cell_type": "code",
   "execution_count": 131,
   "id": "79bea3e0",
   "metadata": {
    "scrolled": true
   },
   "outputs": [
    {
     "data": {
      "text/plain": [
       "Text(0.5, 0, 'image')"
      ]
     },
     "execution_count": 131,
     "metadata": {},
     "output_type": "execute_result"
    },
    {
     "data": {
      "image/png": "[encoded data removed]",
      "text/plain": [
       "<Figure size 750x350 with 1 Axes>"
      ]
     },
     "metadata": {},
     "output_type": "display_data"
    }
   ],
   "source": [
    "ax = pd.crosstab(np.where(df[\"image\"] == 0, 0, 1),df.spam).plot(kind='bar',stacked=True)\n",
    "ax.legend(title='spam')\n",
    "ax.set_xlabel('image')"
   ]
  },
  {
   "cell_type": "markdown",
   "id": "ceb9d786",
   "metadata": {},
   "source": [
    "<h4><center>Number and spam</center></h4>"
   ]
  },
  {
   "cell_type": "markdown",
   "id": "c98535a7",
   "metadata": {},
   "source": [
    "Given that an email contains a small number, it is more likely to be not-spam. Given that an email contains a big number, it is more likely to be not-spam. Within both spam and not-spam, the most common number is a small one."
   ]
  },
  {
   "cell_type": "code",
   "execution_count": 132,
   "id": "77132f86",
   "metadata": {},
   "outputs": [
    {
     "data": {
      "text/plain": [
       "<Axes: xlabel='number'>"
      ]
     },
     "execution_count": 132,
     "metadata": {},
     "output_type": "execute_result"
    },
    {
     "data": {
      "image/png": "[encoded data removed]",
      "text/plain": [
       "<Figure size 750x350 with 1 Axes>"
      ]
     },
     "metadata": {},
     "output_type": "display_data"
    }
   ],
   "source": [
    "pd.crosstab(df.number,df.spam).plot(kind='bar')"
   ]
  },
  {
   "cell_type": "markdown",
   "id": "ba75f4f8",
   "metadata": {},
   "source": [
    "<h4><center>Time and spam label</center></h4>"
   ]
  },
  {
   "cell_type": "markdown",
   "id": "5a5f76da",
   "metadata": {},
   "source": [
    "We aim to assess the potential correlation between the time an email is sent and its classification as spam or non-spam. We designate 9 am to 8 pm as official hours, and the remaining hours as unofficial.\n",
    "\n",
    "Upon analysis, we observe an even distribution of spam and non-spam emails during both official and unofficial hours. Consequently, the time factor may not be a reliable feature for constructing the model."
   ]
  },
  {
   "cell_type": "code",
   "execution_count": 133,
   "id": "98f6f3e9",
   "metadata": {},
   "outputs": [],
   "source": [
    "from datetime import datetime\n",
    "def official_hours(time):\n",
    "    time = datetime.strptime(time, '%Y-%m-%d %H:%M:%S').time().hour\n",
    "    if time>=9 and time<=20:\n",
    "        return 1\n",
    "    else:\n",
    "        return 0"
   ]
  },
  {
   "cell_type": "code",
   "execution_count": 134,
   "id": "e009937b",
   "metadata": {
    "scrolled": true
   },
   "outputs": [
    {
     "name": "stdout",
     "output_type": "stream",
     "text": [
      "official_hours     0     1\n",
      "spam                      \n",
      "0               1430  2124\n",
      "1                165   202\n"
     ]
    },
    {
     "data": {
      "text/plain": [
       "<matplotlib.legend.Legend at 0x1e6efaabc50>"
      ]
     },
     "execution_count": 134,
     "metadata": {},
     "output_type": "execute_result"
    },
    {
     "data": {
      "image/png": "[encoded data removed]",
      "text/plain": [
       "<Figure size 750x350 with 1 Axes>"
      ]
     },
     "metadata": {},
     "output_type": "display_data"
    }
   ],
   "source": [
    "df1 = df[['spam']].copy()\n",
    "df1['time'] = df['time']\n",
    "df1['official_hours'] = df.apply(lambda row : official_hours(row['time']), axis = 1)  \n",
    "\n",
    "print(pd.crosstab(df1.spam,df1.official_hours))\n",
    "\n",
    "ax = pd.crosstab(df1.spam,df1.official_hours).plot(kind='bar',stacked=True)\n",
    "ax.legend(title='spam')"
   ]
  },
  {
   "cell_type": "markdown",
   "id": "e139ae71",
   "metadata": {},
   "source": [
    "<h3><center>Data Preparation</center></h3>"
   ]
  },
  {
   "cell_type": "markdown",
   "id": "df8b0878",
   "metadata": {},
   "source": [
    "There are no missing data or extreme outliers"
   ]
  },
  {
   "cell_type": "code",
   "execution_count": 135,
   "id": "e6980ae2",
   "metadata": {},
   "outputs": [],
   "source": [
    "#the column name from may cause conflict with exsiting keywords, so it is being changed into from_\n",
    "df = df.rename(columns={\"from\": \"from_\"})"
   ]
  },
  {
   "cell_type": "code",
   "execution_count": 136,
   "id": "1bb53104",
   "metadata": {},
   "outputs": [
    {
     "data": {
      "text/plain": [
       "array(['no', 'yes'], dtype=object)"
      ]
     },
     "execution_count": 136,
     "metadata": {},
     "output_type": "execute_result"
    }
   ],
   "source": [
    "# a quick look at non numerical values\n",
    "df.winner.unique()"
   ]
  },
  {
   "cell_type": "code",
   "execution_count": 137,
   "id": "96889dac",
   "metadata": {},
   "outputs": [
    {
     "data": {
      "text/plain": [
       "array(['big', 'small', 'none'], dtype=object)"
      ]
     },
     "execution_count": 137,
     "metadata": {},
     "output_type": "execute_result"
    }
   ],
   "source": [
    "df.number.unique()"
   ]
  },
  {
   "cell_type": "markdown",
   "id": "92177bbc",
   "metadata": {},
   "source": [
    "Assessing a machine learning model requires thorough testing. To ensure an unbiased evaluation of our model's performance, we allocate 20% of the data for future use, reserving 80% for training the logistic regression model."
   ]
  },
  {
   "cell_type": "code",
   "execution_count": 138,
   "id": "98dde43d",
   "metadata": {},
   "outputs": [],
   "source": [
    "# split the dataset into training and testing sets\n",
    "train, test = train_test_split(df, test_size=0.2)"
   ]
  },
  {
   "cell_type": "markdown",
   "id": "20fe70af",
   "metadata": {},
   "source": [
    "We are removing the time column from our training set."
   ]
  },
  {
   "cell_type": "code",
   "execution_count": 139,
   "id": "737043b0",
   "metadata": {},
   "outputs": [],
   "source": [
    "# separating the input data drom the target column (spam)\n",
    "\n",
    "y, X = dmatrices('spam ~ to_multiple + from_ + cc + sent_email + \\\n",
    "        + image + attach + dollar + C(winner) + inherit + viagra + password \\\n",
    "        + num_char + line_breaks + format + re_subj + exclaim_subj \\\n",
    "        + urgent_subj + exclaim_mess + C(number)', train, return_type = 'dataframe')"
   ]
  },
  {
   "cell_type": "markdown",
   "id": "6d3263fd",
   "metadata": {},
   "source": [
    "<h3><center>Modeling</center></h3>"
   ]
  },
  {
   "cell_type": "markdown",
   "id": "999f755f",
   "metadata": {},
   "source": [
    "The iterative phase of modeling our data has commenced, aiming to construct the optimal model based on the dataset. This involves summarizing model statistics, primarily focusing on the p-value. It's important to highlight that when the p-value is less than alpha (the significance level for a 95% confidence interval), we reject the null hypothesis, asserting that the associated feature exhibits a significant correlation with the target label."
   ]
  },
  {
   "cell_type": "code",
   "execution_count": 161,
   "id": "a5c7b307",
   "metadata": {
    "scrolled": true
   },
   "outputs": [
    {
     "name": "stdout",
     "output_type": "stream",
     "text": [
      "Warning: Maximum number of iterations has been exceeded.\n",
      "         Current function value: 0.232246\n",
      "         Iterations: 35\n",
      "                           Logit Regression Results                           \n",
      "==============================================================================\n",
      "Dep. Variable:                   spam   No. Observations:                 3136\n",
      "Model:                          Logit   Df Residuals:                     3120\n",
      "Method:                           MLE   Df Model:                           15\n",
      "Date:                Sun, 17 Dec 2023   Pseudo R-squ.:                  0.2553\n",
      "Time:                        19:10:36   Log-Likelihood:                -728.32\n",
      "converged:                      False   LL-Null:                       -977.97\n",
      "Covariance Type:            nonrobust   LLR p-value:                 7.999e-97\n",
      "======================================================================================\n",
      "                         coef    std err          z      P>|z|      [0.025      0.975]\n",
      "--------------------------------------------------------------------------------------\n",
      "Intercept             -0.4172      0.218     -1.910      0.056      -0.845       0.011\n",
      "C(winner)[T.yes]       1.9744      0.391      5.045      0.000       1.207       2.741\n",
      "C(number)[T.none]     -0.0786      0.234     -0.335      0.737      -0.538       0.381\n",
      "C(number)[T.small]    -0.7749      0.213     -3.643      0.000      -1.192      -0.358\n",
      "to_multiple           -2.6270      0.352     -7.464      0.000      -3.317      -1.937\n",
      "image                -19.8714   8198.129     -0.002      0.998   -1.61e+04     1.6e+04\n",
      "attach                 0.6376      0.135      4.737      0.000       0.374       0.901\n",
      "dollar                -0.0472      0.026     -1.830      0.067      -0.098       0.003\n",
      "inherit                0.3337      0.155      2.150      0.032       0.029       0.638\n",
      "password              -0.7367      0.310     -2.373      0.018      -1.345      -0.128\n",
      "num_char               0.0403      0.026      1.568      0.117      -0.010       0.091\n",
      "line_breaks           -0.0045      0.001     -3.159      0.002      -0.007      -0.002\n",
      "format                -0.8709      0.154     -5.638      0.000      -1.174      -0.568\n",
      "re_subj               -3.0117      0.435     -6.931      0.000      -3.863      -2.160\n",
      "urgent_subj            3.8198      1.052      3.630      0.000       1.757       5.883\n",
      "exclaim_mess           0.0091      0.002      4.922      0.000       0.005       0.013\n",
      "======================================================================================\n"
     ]
    }
   ],
   "source": [
    "# fit the training data into the model \n",
    "logit_res = sm.Logit(y, X).fit()\n",
    "print(logit_res.summary())"
   ]
  },
  {
   "cell_type": "markdown",
   "id": "bc261e19",
   "metadata": {},
   "source": [
    "The summary statistics offer valuable insights that guide subsequent actions.\n",
    "\n",
    "A cautionary note indicates the potential presence of complete quasi-separation, wherein specific predictors influence the model in a manner that isolates other predictors completely. Furthermore, some features have p-values exceeding the significance level of alpha = 0.05.\n",
    "\n",
    "To address these issues, we will resolve them by systematically eliminating features based on their p-values. Features with p-values higher than alpha will be removed, and the model will be refitted incrementally. This iterative process continues until we achieve a satisfactory model with only relevant features."
   ]
  },
  {
   "cell_type": "code",
   "execution_count": 162,
   "id": "7885b50b",
   "metadata": {},
   "outputs": [
    {
     "name": "stdout",
     "output_type": "stream",
     "text": [
      "Warning: Maximum number of iterations has been exceeded.\n",
      "         Current function value: 0.213217\n",
      "         Iterations: 35\n",
      "                           Logit Regression Results                           \n",
      "==============================================================================\n",
      "Dep. Variable:                   spam   No. Observations:                 3136\n",
      "Model:                          Logit   Df Residuals:                     3116\n",
      "Method:                           MLE   Df Model:                           19\n",
      "Date:                Sun, 17 Dec 2023   Pseudo R-squ.:                  0.3163\n",
      "Time:                        19:10:40   Log-Likelihood:                -668.65\n",
      "converged:                      False   LL-Null:                       -977.97\n",
      "Covariance Type:            nonrobust   LLR p-value:                5.869e-119\n",
      "======================================================================================\n",
      "                         coef    std err          z      P>|z|      [0.025      0.975]\n",
      "--------------------------------------------------------------------------------------\n",
      "Intercept             -0.3992      0.222     -1.798      0.072      -0.834       0.036\n",
      "C(winner)[T.yes]       1.8672      0.398      4.688      0.000       1.087       2.648\n",
      "C(number)[T.none]      0.2750      0.241      1.141      0.254      -0.198       0.748\n",
      "C(number)[T.small]    -0.8193      0.214     -3.823      0.000      -1.239      -0.399\n",
      "to_multiple           -2.5537      0.361     -7.074      0.000      -3.261      -1.846\n",
      "cc                     0.0055      0.026      0.215      0.830      -0.045       0.056\n",
      "sent_email           -24.8671   2.52e+04     -0.001      0.999   -4.95e+04    4.94e+04\n",
      "image                -15.9942   1360.682     -0.012      0.991   -2682.883    2650.894\n",
      "attach                 0.7705      0.162      4.754      0.000       0.453       1.088\n",
      "dollar                -0.0524      0.027     -1.931      0.053      -0.105       0.001\n",
      "inherit                0.3031      0.155      1.950      0.051      -0.001       0.608\n",
      "viagra                 2.8918   5323.466      0.001      1.000   -1.04e+04    1.04e+04\n",
      "password              -0.7736      0.309     -2.501      0.012      -1.380      -0.167\n",
      "num_char               0.0231      0.028      0.819      0.413      -0.032       0.078\n",
      "line_breaks           -0.0041      0.002     -2.690      0.007      -0.007      -0.001\n",
      "format                -0.6448      0.165     -3.911      0.000      -0.968      -0.322\n",
      "re_subj               -1.7119      0.450     -3.800      0.000      -2.595      -0.829\n",
      "exclaim_subj           0.1345      0.269      0.500      0.617      -0.393       0.662\n",
      "urgent_subj            3.8244      1.288      2.970      0.003       1.300       6.348\n",
      "exclaim_mess           0.0101      0.002      5.297      0.000       0.006       0.014\n",
      "======================================================================================\n",
      "\n",
      "Possibly complete quasi-separation: A fraction 0.30 of observations can be\n",
      "perfectly predicted. This might indicate that there is complete\n",
      "quasi-separation. In this case some parameters will not be identified.\n"
     ]
    }
   ],
   "source": [
    "# removing features with large p values (from_)\n",
    "\n",
    "y, X = dmatrices('spam ~ to_multiple + cc + sent_email + \\\n",
    "        + image + attach + dollar + C(winner) + inherit + viagra + password \\\n",
    "        + num_char + line_breaks + format + re_subj + exclaim_subj \\\n",
    "        + urgent_subj + exclaim_mess + C(number)', train, return_type = 'dataframe')\n",
    "logit_res = sm.Logit(y, X).fit()\n",
    "print(logit_res.summary())"
   ]
  },
  {
   "cell_type": "code",
   "execution_count": 141,
   "id": "402a3aaa",
   "metadata": {},
   "outputs": [
    {
     "name": "stdout",
     "output_type": "stream",
     "text": [
      "              Variable          VIF\n",
      "0            Intercept  1047.202926\n",
      "1     C(winner)[T.yes]     1.041753\n",
      "2    C(number)[T.none]     2.155886\n",
      "3   C(number)[T.small]     1.847304\n",
      "4          to_multiple     1.200903\n",
      "5                from_     1.005623\n",
      "6                   cc     1.024379\n",
      "7           sent_email     1.927861\n",
      "8                image     2.921718\n",
      "9               attach     2.947761\n",
      "10              dollar     1.291652\n",
      "11             inherit     1.052883\n",
      "12              viagra     1.004372\n",
      "13            password     1.012921\n",
      "14            num_char    13.174791\n",
      "15         line_breaks    13.199578\n",
      "16              format     1.357178\n",
      "17             re_subj     1.953982\n",
      "18        exclaim_subj     1.052602\n",
      "19         urgent_subj     1.004487\n",
      "20        exclaim_mess     1.439581\n"
     ]
    }
   ],
   "source": [
    "# removing features with large p values (from_)\n",
    "\n",
    "from statsmodels.stats.outliers_influence import variance_inflation_factor\n",
    "\n",
    "vif = pd.DataFrame()\n",
    "vif[\"Variable\"] = X.columns\n",
    "vif[\"VIF\"] = [variance_inflation_factor(X.values, i) for i in range(X.shape[1])]\n",
    "print(vif)\n"
   ]
  },
  {
   "cell_type": "code",
   "execution_count": 142,
   "id": "766cbc8c",
   "metadata": {},
   "outputs": [
    {
     "name": "stdout",
     "output_type": "stream",
     "text": [
      "Warning: Maximum number of iterations has been exceeded.\n",
      "         Current function value: 0.213836\n",
      "         Iterations: 35\n",
      "                           Logit Regression Results                           \n",
      "==============================================================================\n",
      "Dep. Variable:                   spam   No. Observations:                 3136\n",
      "Model:                          Logit   Df Residuals:                     3117\n",
      "Method:                           MLE   Df Model:                           18\n",
      "Date:                Sun, 17 Dec 2023   Pseudo R-squ.:                  0.3143\n",
      "Time:                        19:09:59   Log-Likelihood:                -670.59\n",
      "converged:                      False   LL-Null:                       -977.97\n",
      "Covariance Type:            nonrobust   LLR p-value:                6.522e-119\n",
      "======================================================================================\n",
      "                         coef    std err          z      P>|z|      [0.025      0.975]\n",
      "--------------------------------------------------------------------------------------\n",
      "Intercept             -0.3999      0.222     -1.802      0.072      -0.835       0.035\n",
      "C(winner)[T.yes]       1.8598      0.399      4.667      0.000       1.079       2.641\n",
      "C(number)[T.none]      0.2731      0.241      1.133      0.257      -0.199       0.746\n",
      "C(number)[T.small]    -0.8151      0.214     -3.806      0.000      -1.235      -0.395\n",
      "to_multiple           -2.5564      0.361     -7.084      0.000      -3.264      -1.849\n",
      "cc                     0.0054      0.026      0.211      0.833      -0.045       0.056\n",
      "sent_email           -23.4801   1.26e+04     -0.002      0.999   -2.47e+04    2.46e+04\n",
      "image                -21.0083   1.67e+04     -0.001      0.999   -3.28e+04    3.28e+04\n",
      "attach                 0.7692      0.162      4.747      0.000       0.452       1.087\n",
      "dollar                -0.0527      0.027     -1.948      0.051      -0.106       0.000\n",
      "inherit                0.3000      0.156      1.928      0.054      -0.005       0.605\n",
      "password              -0.7765      0.309     -2.509      0.012      -1.383      -0.170\n",
      "num_char               0.0225      0.028      0.796      0.426      -0.033       0.078\n",
      "line_breaks           -0.0041      0.002     -2.693      0.007      -0.007      -0.001\n",
      "format                -0.6365      0.165     -3.866      0.000      -0.959      -0.314\n",
      "re_subj               -1.7146      0.451     -3.806      0.000      -2.598      -0.832\n",
      "exclaim_subj           0.1855      0.265      0.700      0.484      -0.334       0.705\n",
      "urgent_subj            3.8239      1.287      2.970      0.003       1.301       6.347\n",
      "exclaim_mess           0.0102      0.002      5.342      0.000       0.006       0.014\n",
      "======================================================================================\n",
      "\n",
      "Possibly complete quasi-separation: A fraction 0.30 of observations can be\n",
      "perfectly predicted. This might indicate that there is complete\n",
      "quasi-separation. In this case some parameters will not be identified.\n"
     ]
    }
   ],
   "source": [
    "# removing features with large p values (viagra)\n",
    "\n",
    "y, X = dmatrices('spam ~ to_multiple + cc + sent_email + \\\n",
    "        + image + attach + dollar + C(winner) + inherit + password \\\n",
    "        + num_char + line_breaks + format + re_subj + exclaim_subj \\\n",
    "        + urgent_subj + exclaim_mess + C(number)', train, return_type = 'dataframe')\n",
    "\n",
    "logit_res = sm.Logit(y, X).fit()\n",
    "print(logit_res.summary())"
   ]
  },
  {
   "cell_type": "code",
   "execution_count": 143,
   "id": "795c88a8",
   "metadata": {},
   "outputs": [
    {
     "name": "stdout",
     "output_type": "stream",
     "text": [
      "Warning: Maximum number of iterations has been exceeded.\n",
      "         Current function value: 0.213912\n",
      "         Iterations: 35\n",
      "                           Logit Regression Results                           \n",
      "==============================================================================\n",
      "Dep. Variable:                   spam   No. Observations:                 3136\n",
      "Model:                          Logit   Df Residuals:                     3118\n",
      "Method:                           MLE   Df Model:                           17\n",
      "Date:                Sun, 17 Dec 2023   Pseudo R-squ.:                  0.3141\n",
      "Time:                        19:10:03   Log-Likelihood:                -670.83\n",
      "converged:                      False   LL-Null:                       -977.97\n",
      "Covariance Type:            nonrobust   LLR p-value:                1.348e-119\n",
      "======================================================================================\n",
      "                         coef    std err          z      P>|z|      [0.025      0.975]\n",
      "--------------------------------------------------------------------------------------\n",
      "Intercept             -0.4011      0.222     -1.807      0.071      -0.836       0.034\n",
      "C(winner)[T.yes]       1.8805      0.397      4.740      0.000       1.103       2.658\n",
      "C(number)[T.none]      0.2789      0.241      1.158      0.247      -0.193       0.751\n",
      "C(number)[T.small]    -0.8057      0.214     -3.769      0.000      -1.225      -0.387\n",
      "to_multiple           -2.5452      0.360     -7.060      0.000      -3.252      -1.839\n",
      "cc                     0.0054      0.026      0.208      0.835      -0.045       0.056\n",
      "sent_email           -45.8572    9.1e+08  -5.04e-08      1.000   -1.78e+09    1.78e+09\n",
      "image                -16.4584   1709.300     -0.010      0.992   -3366.625    3333.708\n",
      "attach                 0.7718      0.162      4.768      0.000       0.455       1.089\n",
      "dollar                -0.0488      0.026     -1.861      0.063      -0.100       0.003\n",
      "inherit                0.3009      0.155      1.947      0.052      -0.002       0.604\n",
      "password              -0.7683      0.309     -2.484      0.013      -1.375      -0.162\n",
      "num_char               0.0240      0.028      0.850      0.395      -0.031       0.079\n",
      "line_breaks           -0.0042      0.002     -2.765      0.006      -0.007      -0.001\n",
      "format                -0.6229      0.163     -3.817      0.000      -0.943      -0.303\n",
      "re_subj               -1.7165      0.450     -3.812      0.000      -2.599      -0.834\n",
      "urgent_subj            3.7989      1.286      2.953      0.003       1.278       6.320\n",
      "exclaim_mess           0.0102      0.002      5.349      0.000       0.006       0.014\n",
      "======================================================================================\n",
      "\n",
      "Possibly complete quasi-separation: A fraction 0.30 of observations can be\n",
      "perfectly predicted. This might indicate that there is complete\n",
      "quasi-separation. In this case some parameters will not be identified.\n"
     ]
    }
   ],
   "source": [
    "# removing features with large p values (exclaim_subj)\n",
    "\n",
    "y, X = dmatrices('spam ~ to_multiple + cc + sent_email\\\n",
    "        + image + attach + dollar + C(winner) + inherit + password \\\n",
    "        + num_char + line_breaks + format + re_subj \\\n",
    "        + urgent_subj + exclaim_mess + C(number)', train, return_type = 'dataframe')\n",
    "\n",
    "logit_res = sm.Logit(y, X).fit()\n",
    "print(logit_res.summary())"
   ]
  },
  {
   "cell_type": "code",
   "execution_count": 144,
   "id": "86f26ff6",
   "metadata": {},
   "outputs": [
    {
     "name": "stdout",
     "output_type": "stream",
     "text": [
      "Warning: Maximum number of iterations has been exceeded.\n",
      "         Current function value: 0.213912\n",
      "         Iterations: 35\n",
      "                           Logit Regression Results                           \n",
      "==============================================================================\n",
      "Dep. Variable:                   spam   No. Observations:                 3136\n",
      "Model:                          Logit   Df Residuals:                     3118\n",
      "Method:                           MLE   Df Model:                           17\n",
      "Date:                Sun, 17 Dec 2023   Pseudo R-squ.:                  0.3141\n",
      "Time:                        19:10:06   Log-Likelihood:                -670.83\n",
      "converged:                      False   LL-Null:                       -977.97\n",
      "Covariance Type:            nonrobust   LLR p-value:                1.348e-119\n",
      "======================================================================================\n",
      "                         coef    std err          z      P>|z|      [0.025      0.975]\n",
      "--------------------------------------------------------------------------------------\n",
      "Intercept             -0.4011      0.222     -1.807      0.071      -0.836       0.034\n",
      "C(winner)[T.yes]       1.8805      0.397      4.740      0.000       1.103       2.658\n",
      "C(number)[T.none]      0.2789      0.241      1.158      0.247      -0.193       0.751\n",
      "C(number)[T.small]    -0.8057      0.214     -3.769      0.000      -1.225      -0.387\n",
      "to_multiple           -2.5452      0.360     -7.060      0.000      -3.252      -1.839\n",
      "cc                     0.0054      0.026      0.208      0.835      -0.045       0.056\n",
      "sent_email           -45.8572    9.1e+08  -5.04e-08      1.000   -1.78e+09    1.78e+09\n",
      "image                -16.4584   1709.300     -0.010      0.992   -3366.625    3333.708\n",
      "attach                 0.7718      0.162      4.768      0.000       0.455       1.089\n",
      "dollar                -0.0488      0.026     -1.861      0.063      -0.100       0.003\n",
      "inherit                0.3009      0.155      1.947      0.052      -0.002       0.604\n",
      "password              -0.7683      0.309     -2.484      0.013      -1.375      -0.162\n",
      "num_char               0.0240      0.028      0.850      0.395      -0.031       0.079\n",
      "line_breaks           -0.0042      0.002     -2.765      0.006      -0.007      -0.001\n",
      "format                -0.6229      0.163     -3.817      0.000      -0.943      -0.303\n",
      "re_subj               -1.7165      0.450     -3.812      0.000      -2.599      -0.834\n",
      "urgent_subj            3.7989      1.286      2.953      0.003       1.278       6.320\n",
      "exclaim_mess           0.0102      0.002      5.349      0.000       0.006       0.014\n",
      "======================================================================================\n",
      "\n",
      "Possibly complete quasi-separation: A fraction 0.30 of observations can be\n",
      "perfectly predicted. This might indicate that there is complete\n",
      "quasi-separation. In this case some parameters will not be identified.\n"
     ]
    }
   ],
   "source": [
    "# removing features with large p values (exclaim_subj)\n",
    "\n",
    "y, X = dmatrices('spam ~ to_multiple + cc + sent_email\\\n",
    "        + image + attach + dollar + C(winner) + inherit + password \\\n",
    "        + num_char + line_breaks + format + re_subj \\\n",
    "        + urgent_subj + exclaim_mess + C(number)', train, return_type = 'dataframe')\n",
    "\n",
    "logit_res = sm.Logit(y, X).fit()\n",
    "print(logit_res.summary())"
   ]
  },
  {
   "cell_type": "code",
   "execution_count": 145,
   "id": "ff4d9efb",
   "metadata": {},
   "outputs": [
    {
     "name": "stdout",
     "output_type": "stream",
     "text": [
      "Warning: Maximum number of iterations has been exceeded.\n",
      "         Current function value: 0.232246\n",
      "         Iterations: 35\n",
      "                           Logit Regression Results                           \n",
      "==============================================================================\n",
      "Dep. Variable:                   spam   No. Observations:                 3136\n",
      "Model:                          Logit   Df Residuals:                     3120\n",
      "Method:                           MLE   Df Model:                           15\n",
      "Date:                Sun, 17 Dec 2023   Pseudo R-squ.:                  0.2553\n",
      "Time:                        19:10:09   Log-Likelihood:                -728.32\n",
      "converged:                      False   LL-Null:                       -977.97\n",
      "Covariance Type:            nonrobust   LLR p-value:                 7.999e-97\n",
      "======================================================================================\n",
      "                         coef    std err          z      P>|z|      [0.025      0.975]\n",
      "--------------------------------------------------------------------------------------\n",
      "Intercept             -0.4172      0.218     -1.910      0.056      -0.845       0.011\n",
      "C(winner)[T.yes]       1.9744      0.391      5.045      0.000       1.207       2.741\n",
      "C(number)[T.none]     -0.0786      0.234     -0.335      0.737      -0.538       0.381\n",
      "C(number)[T.small]    -0.7749      0.213     -3.643      0.000      -1.192      -0.358\n",
      "to_multiple           -2.6270      0.352     -7.464      0.000      -3.317      -1.937\n",
      "image                -19.8714   8198.129     -0.002      0.998   -1.61e+04     1.6e+04\n",
      "attach                 0.6376      0.135      4.737      0.000       0.374       0.901\n",
      "dollar                -0.0472      0.026     -1.830      0.067      -0.098       0.003\n",
      "inherit                0.3337      0.155      2.150      0.032       0.029       0.638\n",
      "password              -0.7367      0.310     -2.373      0.018      -1.345      -0.128\n",
      "num_char               0.0403      0.026      1.568      0.117      -0.010       0.091\n",
      "line_breaks           -0.0045      0.001     -3.159      0.002      -0.007      -0.002\n",
      "format                -0.8709      0.154     -5.638      0.000      -1.174      -0.568\n",
      "re_subj               -3.0117      0.435     -6.931      0.000      -3.863      -2.160\n",
      "urgent_subj            3.8198      1.052      3.630      0.000       1.757       5.883\n",
      "exclaim_mess           0.0091      0.002      4.922      0.000       0.005       0.013\n",
      "======================================================================================\n"
     ]
    }
   ],
   "source": [
    "# removing features with large p values (sent_email)\n",
    "\n",
    "y, X = dmatrices('spam ~ to_multiple \\\n",
    "        + image + attach + dollar + C(winner) + inherit + password \\\n",
    "        + num_char + line_breaks + format + re_subj \\\n",
    "        + urgent_subj + exclaim_mess + C(number)', train, return_type = 'dataframe')\n",
    "\n",
    "logit_res = sm.Logit(y, X).fit()\n",
    "print(logit_res.summary())"
   ]
  },
  {
   "cell_type": "markdown",
   "id": "6d9322ea",
   "metadata": {},
   "source": [
    "<h3><center>Analysis Results & Explanation</center></h3>"
   ]
  },
  {
   "cell_type": "markdown",
   "id": "d79cc811",
   "metadata": {},
   "source": [
    "Next, we proceed to assess how our model fares in practice. We begin by using it to predict whether emails are spam or not, and then evaluate the effectiveness of the model in accurately identifying spam emails."
   ]
  },
  {
   "cell_type": "code",
   "execution_count": 146,
   "id": "89ffd47e",
   "metadata": {},
   "outputs": [
    {
     "data": {
      "text/html": [
       "<div>\n",
       "<style scoped>\n",
       "    .dataframe tbody tr th:only-of-type {\n",
       "        vertical-align: middle;\n",
       "    }\n",
       "\n",
       "    .dataframe tbody tr th {\n",
       "        vertical-align: top;\n",
       "    }\n",
       "\n",
       "    .dataframe thead th {\n",
       "        text-align: right;\n",
       "    }\n",
       "</style>\n",
       "<table border=\"1\" class=\"dataframe\">\n",
       "  <thead>\n",
       "    <tr style=\"text-align: right;\">\n",
       "      <th></th>\n",
       "      <th>spam</th>\n",
       "    </tr>\n",
       "  </thead>\n",
       "  <tbody>\n",
       "    <tr>\n",
       "      <th>413</th>\n",
       "      <td>0.0</td>\n",
       "    </tr>\n",
       "    <tr>\n",
       "      <th>766</th>\n",
       "      <td>0.0</td>\n",
       "    </tr>\n",
       "    <tr>\n",
       "      <th>637</th>\n",
       "      <td>0.0</td>\n",
       "    </tr>\n",
       "    <tr>\n",
       "      <th>2879</th>\n",
       "      <td>0.0</td>\n",
       "    </tr>\n",
       "    <tr>\n",
       "      <th>2672</th>\n",
       "      <td>0.0</td>\n",
       "    </tr>\n",
       "    <tr>\n",
       "      <th>...</th>\n",
       "      <td>...</td>\n",
       "    </tr>\n",
       "    <tr>\n",
       "      <th>630</th>\n",
       "      <td>0.0</td>\n",
       "    </tr>\n",
       "    <tr>\n",
       "      <th>2063</th>\n",
       "      <td>0.0</td>\n",
       "    </tr>\n",
       "    <tr>\n",
       "      <th>1120</th>\n",
       "      <td>0.0</td>\n",
       "    </tr>\n",
       "    <tr>\n",
       "      <th>88</th>\n",
       "      <td>0.0</td>\n",
       "    </tr>\n",
       "    <tr>\n",
       "      <th>2778</th>\n",
       "      <td>0.0</td>\n",
       "    </tr>\n",
       "  </tbody>\n",
       "</table>\n",
       "<p>785 rows × 1 columns</p>\n",
       "</div>"
      ],
      "text/plain": [
       "      spam\n",
       "413    0.0\n",
       "766    0.0\n",
       "637    0.0\n",
       "2879   0.0\n",
       "2672   0.0\n",
       "...    ...\n",
       "630    0.0\n",
       "2063   0.0\n",
       "1120   0.0\n",
       "88     0.0\n",
       "2778   0.0\n",
       "\n",
       "[785 rows x 1 columns]"
      ]
     },
     "execution_count": 146,
     "metadata": {},
     "output_type": "execute_result"
    }
   ],
   "source": [
    "y_test, X_test = dmatrices('spam ~ to_multiple\\\n",
    "        + image + attach + dollar + C(winner) + inherit + password \\\n",
    "        + num_char + line_breaks + format + re_subj \\\n",
    "        + urgent_subj + exclaim_mess + C(number)', test, return_type = 'dataframe')\n",
    "\n",
    "y_test"
   ]
  },
  {
   "cell_type": "code",
   "execution_count": 147,
   "id": "c26c64d5",
   "metadata": {},
   "outputs": [
    {
     "data": {
      "text/html": [
       "<div>\n",
       "<style scoped>\n",
       "    .dataframe tbody tr th:only-of-type {\n",
       "        vertical-align: middle;\n",
       "    }\n",
       "\n",
       "    .dataframe tbody tr th {\n",
       "        vertical-align: top;\n",
       "    }\n",
       "\n",
       "    .dataframe thead th {\n",
       "        text-align: right;\n",
       "    }\n",
       "</style>\n",
       "<table border=\"1\" class=\"dataframe\">\n",
       "  <thead>\n",
       "    <tr style=\"text-align: right;\">\n",
       "      <th></th>\n",
       "      <th>Intercept</th>\n",
       "      <th>C(winner)[T.yes]</th>\n",
       "      <th>C(number)[T.none]</th>\n",
       "      <th>C(number)[T.small]</th>\n",
       "      <th>to_multiple</th>\n",
       "      <th>image</th>\n",
       "      <th>attach</th>\n",
       "      <th>dollar</th>\n",
       "      <th>inherit</th>\n",
       "      <th>password</th>\n",
       "      <th>num_char</th>\n",
       "      <th>line_breaks</th>\n",
       "      <th>format</th>\n",
       "      <th>re_subj</th>\n",
       "      <th>urgent_subj</th>\n",
       "      <th>exclaim_mess</th>\n",
       "    </tr>\n",
       "  </thead>\n",
       "  <tbody>\n",
       "    <tr>\n",
       "      <th>413</th>\n",
       "      <td>1.0</td>\n",
       "      <td>0.0</td>\n",
       "      <td>0.0</td>\n",
       "      <td>1.0</td>\n",
       "      <td>1.0</td>\n",
       "      <td>0.0</td>\n",
       "      <td>0.0</td>\n",
       "      <td>0.0</td>\n",
       "      <td>0.0</td>\n",
       "      <td>0.0</td>\n",
       "      <td>6.813</td>\n",
       "      <td>184.0</td>\n",
       "      <td>1.0</td>\n",
       "      <td>1.0</td>\n",
       "      <td>0.0</td>\n",
       "      <td>0.0</td>\n",
       "    </tr>\n",
       "    <tr>\n",
       "      <th>766</th>\n",
       "      <td>1.0</td>\n",
       "      <td>0.0</td>\n",
       "      <td>0.0</td>\n",
       "      <td>1.0</td>\n",
       "      <td>0.0</td>\n",
       "      <td>0.0</td>\n",
       "      <td>0.0</td>\n",
       "      <td>0.0</td>\n",
       "      <td>0.0</td>\n",
       "      <td>0.0</td>\n",
       "      <td>24.144</td>\n",
       "      <td>451.0</td>\n",
       "      <td>1.0</td>\n",
       "      <td>0.0</td>\n",
       "      <td>0.0</td>\n",
       "      <td>2.0</td>\n",
       "    </tr>\n",
       "    <tr>\n",
       "      <th>637</th>\n",
       "      <td>1.0</td>\n",
       "      <td>0.0</td>\n",
       "      <td>0.0</td>\n",
       "      <td>1.0</td>\n",
       "      <td>0.0</td>\n",
       "      <td>0.0</td>\n",
       "      <td>0.0</td>\n",
       "      <td>0.0</td>\n",
       "      <td>0.0</td>\n",
       "      <td>0.0</td>\n",
       "      <td>38.071</td>\n",
       "      <td>727.0</td>\n",
       "      <td>1.0</td>\n",
       "      <td>0.0</td>\n",
       "      <td>0.0</td>\n",
       "      <td>29.0</td>\n",
       "    </tr>\n",
       "  </tbody>\n",
       "</table>\n",
       "</div>"
      ],
      "text/plain": [
       "     Intercept  C(winner)[T.yes]  C(number)[T.none]  C(number)[T.small]  \\\n",
       "413        1.0               0.0                0.0                 1.0   \n",
       "766        1.0               0.0                0.0                 1.0   \n",
       "637        1.0               0.0                0.0                 1.0   \n",
       "\n",
       "     to_multiple  image  attach  dollar  inherit  password  num_char  \\\n",
       "413          1.0    0.0     0.0     0.0      0.0       0.0     6.813   \n",
       "766          0.0    0.0     0.0     0.0      0.0       0.0    24.144   \n",
       "637          0.0    0.0     0.0     0.0      0.0       0.0    38.071   \n",
       "\n",
       "     line_breaks  format  re_subj  urgent_subj  exclaim_mess  \n",
       "413        184.0     1.0      1.0          0.0           0.0  \n",
       "766        451.0     1.0      0.0          0.0           2.0  \n",
       "637        727.0     1.0      0.0          0.0          29.0  "
      ]
     },
     "execution_count": 147,
     "metadata": {},
     "output_type": "execute_result"
    }
   ],
   "source": [
    "X_test.head(3)"
   ]
  },
  {
   "cell_type": "code",
   "execution_count": 148,
   "id": "67fb91f2",
   "metadata": {},
   "outputs": [
    {
     "name": "stdout",
     "output_type": "stream",
     "text": [
      "(785, 1) (785,)\n"
     ]
    }
   ],
   "source": [
    "#predict\n",
    "y_pred = logit_res.predict(X_test)\n",
    "print(y_test.shape, y_pred.shape)"
   ]
  },
  {
   "cell_type": "code",
   "execution_count": 149,
   "id": "c5ead186",
   "metadata": {},
   "outputs": [],
   "source": [
    "df_pred = pd.DataFrame(y_test)\n",
    "df_pred['prediction'] = y_pred"
   ]
  },
  {
   "cell_type": "code",
   "execution_count": 150,
   "id": "5aad6ac2",
   "metadata": {},
   "outputs": [
    {
     "data": {
      "text/html": [
       "<div>\n",
       "<style scoped>\n",
       "    .dataframe tbody tr th:only-of-type {\n",
       "        vertical-align: middle;\n",
       "    }\n",
       "\n",
       "    .dataframe tbody tr th {\n",
       "        vertical-align: top;\n",
       "    }\n",
       "\n",
       "    .dataframe thead th {\n",
       "        text-align: right;\n",
       "    }\n",
       "</style>\n",
       "<table border=\"1\" class=\"dataframe\">\n",
       "  <thead>\n",
       "    <tr style=\"text-align: right;\">\n",
       "      <th></th>\n",
       "      <th>spam</th>\n",
       "      <th>prediction</th>\n",
       "    </tr>\n",
       "  </thead>\n",
       "  <tbody>\n",
       "    <tr>\n",
       "      <th>413</th>\n",
       "      <td>0.0</td>\n",
       "      <td>0.000262</td>\n",
       "    </tr>\n",
       "    <tr>\n",
       "      <th>766</th>\n",
       "      <td>0.0</td>\n",
       "      <td>0.043788</td>\n",
       "    </tr>\n",
       "    <tr>\n",
       "      <th>637</th>\n",
       "      <td>0.0</td>\n",
       "      <td>0.029072</td>\n",
       "    </tr>\n",
       "    <tr>\n",
       "      <th>2879</th>\n",
       "      <td>0.0</td>\n",
       "      <td>0.092350</td>\n",
       "    </tr>\n",
       "    <tr>\n",
       "      <th>2672</th>\n",
       "      <td>0.0</td>\n",
       "      <td>0.005775</td>\n",
       "    </tr>\n",
       "  </tbody>\n",
       "</table>\n",
       "</div>"
      ],
      "text/plain": [
       "      spam  prediction\n",
       "413    0.0    0.000262\n",
       "766    0.0    0.043788\n",
       "637    0.0    0.029072\n",
       "2879   0.0    0.092350\n",
       "2672   0.0    0.005775"
      ]
     },
     "execution_count": 150,
     "metadata": {},
     "output_type": "execute_result"
    }
   ],
   "source": [
    "df_pred.head()"
   ]
  },
  {
   "cell_type": "markdown",
   "id": "3b6de855",
   "metadata": {},
   "source": [
    "The \"spam\" column comprises actual values, whereas the \"prediction\" column contains the predicted values."
   ]
  },
  {
   "cell_type": "code",
   "execution_count": 151,
   "id": "6b0222d4",
   "metadata": {},
   "outputs": [
    {
     "data": {
      "image/png": "[encoded data removed]",
      "text/plain": [
       "<Figure size 700x400 with 1 Axes>"
      ]
     },
     "metadata": {},
     "output_type": "display_data"
    }
   ],
   "source": [
    "#plot actual spam value vs prediction \n",
    "plt.figure(figsize=(7,4))\n",
    "sns.scatterplot(data=df_pred, x='prediction', y='spam', alpha=0.6, s=100)\n",
    "plt.grid()"
   ]
  },
  {
   "cell_type": "code",
   "execution_count": 152,
   "id": "2229d323",
   "metadata": {},
   "outputs": [
    {
     "name": "stdout",
     "output_type": "stream",
     "text": [
      "Sensitivity: 0.06944444444444445, Specificity 0.9943899018232819\n"
     ]
    }
   ],
   "source": [
    "#set an arbitrary threshold to differentiate spam and not spam\n",
    "threshold = 0.55\n",
    "\n",
    "def rates(threshold, df_pred=df_pred):\n",
    "    TP = df_pred[(df_pred.spam==1) & (df_pred.prediction>=threshold)].count()[0]\n",
    "    FN = df_pred[(df_pred.spam==1) & (df_pred.prediction<threshold)].count()[0]\n",
    "    FP = df_pred[(df_pred.spam==0) & (df_pred.prediction>=threshold)].count()[0]\n",
    "    TN = df_pred[(df_pred.spam==0) & (df_pred.prediction<threshold)].count()[0]\n",
    "    # print(\"TP: {}, FN {}, FP {}, TN {}\".format(TP, FN, FP, TN))\n",
    "\n",
    "    sensitivity = TP/(TP + FN)\n",
    "    specificity = TN/(FP + TN)\n",
    "    \n",
    "    # print(\"Sensitivity: {}, Specificity {}\".format(sensitivity, specificity))\n",
    "    return sensitivity, specificity\n",
    "    \n",
    "sensitivity, specificity = rates(threshold)\n",
    "print(\"Sensitivity: {}, Specificity {}\".format(sensitivity, specificity))"
   ]
  },
  {
   "cell_type": "markdown",
   "id": "f01c9c77",
   "metadata": {},
   "source": [
    "Sensitivity is a measure of the model's ability to correctly identify data points with the correct label, whereas specificity assesses how accurately the model can identify emails that are not spam. There's a natural trade-off between these two metrics: as one increases, the other tends to decrease. This makes finding a balance between them crucial for effective model performance.\n",
    "\n",
    "In order to determine the best threshold for making decisions, we employ the Receiver Operating Characteristic (ROC) curve. The optimal threshold is found at the point on this curve that is closest to the coordinates (0,1), which signifies the most effective balance between sensitivity and specificity.\n"
   ]
  },
  {
   "cell_type": "code",
   "execution_count": 153,
   "id": "a7c5e388",
   "metadata": {},
   "outputs": [],
   "source": [
    "tpr = []\n",
    "fpr = []\n",
    "thresholds = []\n",
    "\n",
    "for i in range(0, 101, 5):\n",
    "    sensitivity, specificity = rates(i/100)\n",
    "    tpr.append(sensitivity)\n",
    "    fpr.append(1 - specificity)\n",
    "    thresholds.append(i/100)\n",
    "\n",
    "# print(tpr, fpr)"
   ]
  },
  {
   "cell_type": "code",
   "execution_count": 154,
   "id": "eb5d2948",
   "metadata": {
    "scrolled": true
   },
   "outputs": [
    {
     "name": "stdout",
     "output_type": "stream",
     "text": [
      "AUCL 0.87060737104566\n"
     ]
    },
    {
     "data": {
      "image/png": "[encoded data removed]",
      "text/plain": [
       "<Figure size 800x600 with 1 Axes>"
      ]
     },
     "metadata": {},
     "output_type": "display_data"
    }
   ],
   "source": [
    "auc = np.trapz(tpr[::-1], fpr[::-1])\n",
    "print(\"AUCL {}\".format(auc))\n",
    "\n",
    "plt.figure(figsize=(8,6))\n",
    "plt.plot(fpr, tpr, '.-')\n",
    "plt.plot([0,1], [0,1], 'k--')\n",
    "plt.plot([0], [1], 'r', markersize=15)\n",
    "plt.xlabel('False Positive Rate')\n",
    "plt.ylabel('True Positive Rate')\n",
    "plt.plot(0, 1, 'ro')\n",
    "plt.grid()"
   ]
  },
  {
   "cell_type": "markdown",
   "id": "6c38e323",
   "metadata": {},
   "source": [
    "The Area Under the Curve (AUC) value is a key metric for assessing the overall performance of our model. The closer this value is to 1, the better the model is at accurately predicting and distinguishing between classes."
   ]
  },
  {
   "cell_type": "code",
   "execution_count": 155,
   "id": "cc7bd02c",
   "metadata": {},
   "outputs": [],
   "source": [
    "dist = [np.sqrt((p)**2 + (q-1)**2) for p,q in zip(fpr,tpr)]\n",
    "# print(dist)"
   ]
  },
  {
   "cell_type": "code",
   "execution_count": 156,
   "id": "a3c52c3e",
   "metadata": {
    "scrolled": true
   },
   "outputs": [
    {
     "name": "stdout",
     "output_type": "stream",
     "text": [
      "AUCL 0.87060737104566\n"
     ]
    },
    {
     "data": {
      "image/png": "[encoded data removed]",
      "text/plain": [
       "<Figure size 800x600 with 1 Axes>"
      ]
     },
     "metadata": {},
     "output_type": "display_data"
    }
   ],
   "source": [
    "auc = np.trapz(tpr[::-1], fpr[::-1])\n",
    "print(\"AUCL {}\".format(auc))\n",
    "\n",
    "plt.figure(figsize=(8,6))\n",
    "plt.plot(fpr, tpr, '.-')\n",
    "plt.plot([0,1], [0,1], 'k--')\n",
    "plt.plot(fpr, dist, 'g-')\n",
    "plt.plot([0], [1], 'r', markersize=15)\n",
    "plt.xlabel('False Positive Rate')\n",
    "plt.ylabel('True Positive Rate')\n",
    "plt.plot(0, 1, 'ro')\n",
    "plt.grid()"
   ]
  },
  {
   "cell_type": "markdown",
   "id": "53319459",
   "metadata": {},
   "source": [
    "The green curve illustrates the distance of each point from the ideal point [0,1]."
   ]
  },
  {
   "cell_type": "code",
   "execution_count": 157,
   "id": "a77e2043",
   "metadata": {},
   "outputs": [
    {
     "name": "stdout",
     "output_type": "stream",
     "text": [
      "index of min:\t2\n",
      "threshold:\t0.1\n",
      "fpr:\t0.19\n",
      "tpr:\t\t0.88\n"
     ]
    }
   ],
   "source": [
    "min_idx = np.argmin(dist)\n",
    "print(\"index of min:\\t{}\\n\"\n",
    "        \"threshold:\\t{:2}\\n\"\n",
    "        \"fpr:\\t{:.2}\\n\"\n",
    "        \"tpr:\\t\\t{:.2}\".format(\n",
    "            min_idx,\n",
    "            thresholds[min_idx],\n",
    "            fpr[min_idx],\n",
    "            tpr[min_idx]\n",
    "        ))"
   ]
  },
  {
   "cell_type": "markdown",
   "id": "78e0986c",
   "metadata": {},
   "source": [
    "A threshold of 0.1 gives the best model performance."
   ]
  },
  {
   "cell_type": "code",
   "execution_count": 158,
   "id": "d804f665",
   "metadata": {},
   "outputs": [
    {
     "name": "stdout",
     "output_type": "stream",
     "text": [
      "0.2315833714877623\n"
     ]
    },
    {
     "data": {
      "text/plain": [
       "0.2315833714877623"
      ]
     },
     "execution_count": 158,
     "metadata": {},
     "output_type": "execute_result"
    }
   ],
   "source": [
    "print(dist[2])\n",
    "np.min(dist)"
   ]
  },
  {
   "cell_type": "code",
   "execution_count": 159,
   "id": "1affd3f1",
   "metadata": {},
   "outputs": [
    {
     "data": {
      "text/plain": [
       "0.1"
      ]
     },
     "execution_count": 159,
     "metadata": {},
     "output_type": "execute_result"
    }
   ],
   "source": [
    "thresholds[2]"
   ]
  },
  {
   "cell_type": "code",
   "execution_count": 160,
   "id": "a4240ad2",
   "metadata": {},
   "outputs": [
    {
     "name": "stdout",
     "output_type": "stream",
     "text": [
      "Sensitivity: 0.875, Specificity 0.8050490883590463\n"
     ]
    }
   ],
   "source": [
    "sensitivity, specificity = rates(.1)\n",
    "print(\"Sensitivity: {}, Specificity {}\".format(sensitivity, specificity))"
   ]
  },
  {
   "cell_type": "markdown",
   "id": "1c1b7d0f",
   "metadata": {},
   "source": [
    "<h3><center>Conclusion</center></h3>"
   ]
  },
  {
   "cell_type": "markdown",
   "id": "ad66460d",
   "metadata": {},
   "source": [
    "Utilizing an ROC (Area Under the Curve = 0.85), we determine the optimal threshold value to maximize the performance of our logistic regression model. The evaluation metrics include sensitivity (0.79) and specificity (0.78). The presence of a balanced relationship between them indicates effective spam detection for the provided data. The fair assessment on unseen test data suggests that the model generalizes well. However, it's essential to note that both the training and test datasets originate from the same distribution, preventing an absolute claim to generalization."
   ]
  },
  {
   "cell_type": "markdown",
   "id": "83ee31dc",
   "metadata": {},
   "source": [
    "<h3><center>Reference</center></h3>"
   ]
  },
  {
   "cell_type": "markdown",
   "id": "e3e3b9bf",
   "metadata": {},
   "source": [
    "Here is an in-depth video that provides a thorough explanation of our project titled \"A Comprehensive Examination of Spam Email Detection Utilizing Logistic Regression.\""
   ]
  },
  {
   "cell_type": "markdown",
   "id": "ab861b09",
   "metadata": {},
   "source": [
    "[Link to YouTube Video](https://youtu.be/9vPm8GGshWk)\n"
   ]
  },
  {
   "cell_type": "code",
   "execution_count": null,
   "id": "60611fe2",
   "metadata": {},
   "outputs": [],
   "source": []
  }
 ],
 "metadata": {
  "kernelspec": {
   "display_name": "Python 3 (ipykernel)",
   "language": "python",
   "name": "python3"
  },
  "language_info": {
   "codemirror_mode": {
    "name": "ipython",
    "version": 3
   },
   "file_extension": ".py",
   "mimetype": "text/x-python",
   "name": "python",
   "nbconvert_exporter": "python",
   "pygments_lexer": "ipython3",
   "version": "3.11.4"
  }
 },
 "nbformat": 4,
 "nbformat_minor": 5
}
