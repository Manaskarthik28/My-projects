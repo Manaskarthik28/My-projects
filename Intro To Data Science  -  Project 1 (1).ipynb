{
 "cells": [
  {
   "cell_type": "markdown",
   "id": "fd84bde4",
   "metadata": {},
   "source": [
    "<h1><center> Introduction to DATA SCIENCE [DSCI -6002 -03] </center></h1>"
   ]
  },
  {
   "cell_type": "markdown",
   "id": "e378c38a",
   "metadata": {},
   "source": [
    "<h1> <center><span style='color:Blue'> Project_1 - ANOVA Analysis on MMPI Data</span></center></h1>"
   ]
  },
  {
   "cell_type": "markdown",
   "id": "786162ab",
   "metadata": {},
   "source": [
    "<h1><center>Professor : Minkyu Kim</center></h1>\n",
    "\n"
   ]
  },
  {
   "cell_type": "markdown",
   "id": "c176c7ed",
   "metadata": {},
   "source": [
    "<h2 style=\"color: Blue; text-align: center;\">     Group 5</h2>\n",
    "\n",
    "<p style=\"font-size: 18px; text-align: center;\">Abburi, Rohith</p>\n",
    "<p style=\"font-size: 18px; text-align: center;\">Awoshetty, Akhila</p>\n",
    "<p style=\"font-size: 18px; text-align: center;\">Bathala, Lokesh</p>\n",
    "<p style=\"font-size: 18px; text-align: center;\">Bhiravajosyula, Krishna Sai</p>\n",
    "<p style=\"font-size: 18px; text-align: center;\">Bollampally, Lohithkumar</p>\n",
    "<p style=\"font-size: 18px; text-align: center;\">Boyapally, Pavan Reddy</p>"
   ]
  },
  {
   "cell_type": "markdown",
   "id": "74e446fc",
   "metadata": {},
   "source": [
    "<h1><center> Abstract </center></h1>\n",
    "\n",
    "<p style=\"font-size: 18px;\"> Analysis of variance (ANOVA) is a typical statistical testing method for experiments involving two or more groups.The number of independent variables in our Analysis of Variance test determines whether it is one-way or two-way test we should perform. </p>\n",
    "\n",
    "<p style=\"font-size: 18px;\">The purpose of the study was to evaluate whether such interventions could influence the subjects' psychopathic deviant T scores, which are indicative of an individual's need for control and tendency towards rebellious behavior against control. MMPI tests were administered before and after the treatment to gauge changes in these scores.</p>\n",
    "\n",
    "<p style=\"font-size: 18px;\">Perfom the Exploratory Data Analysis of different groups by providing the Box plots.\n",
    "Genrate the Null and Alternate Hypothesis for the given data set. Compute Means, Variance, Standard Deviation, Sum of Squares for calculating the F-Test Statistics.Based on the F statistics we will either accept or reject null hypothesis.</p>\n",
    "\n",
    "<p style=\"font-size: 18px;\">If in case Null hypothesis is rejected then will perform Pairwise comparison using Bonferrori Correction Method.To draw the conclusion based on ANOVA analysis about student performance between the groups and among the groups.</p>"
   ]
  },
  {
   "cell_type": "markdown",
   "id": "35602107",
   "metadata": {},
   "source": [
    "<h1><center> Theory </center></h1>\n"
   ]
  },
  {
   "cell_type": "markdown",
   "id": "ff4bbb9b",
   "metadata": {},
   "source": [
    "\n",
    "## Statistical test \n",
    "+ Statistical tests work by calculating a test statistic - a number that describes how closely the distribution of your data matches the distribution expected under the null hypothesis of the statistical test. The test statistic is used to calculate the p-value (probability value), helping to decide whether to reject your null hypothesis.\n",
    "+ If the value of the test statistic is more extreme than the statistic calculated from the null hypothesis, then you can infer a statistically significant relationship between the predictor and outcome variables.\n",
    "+ If the value of the test statistic is less extreme than the one calculated from the null hypothesis, then you can infer no  statistically significant relationship between the predictor and outcome variables.\n",
    "\n",
    "## When to perform a statistical test? \n",
    "+ You can perform statistical tests on data that have been collected in a statistically valid manner – either through an experiment, or through observations made using probability sampling methods.\n",
    "+ For a statistical test to be valid, your sample size needs to be large enough to approximate the true distribution of the population being studied.\n",
    "+ To determine which statistical test to use, you need to know:\n",
    "<br>\n",
    " •\twhether your data meets certain assumptions.\n",
    "<br>\n",
    " •\tthe types of variables that you’re dealing with.\n",
    "\n",
    "### Statistical assumptions \n",
    "Statistical tests make some common assumptions about the data they are testing:\n",
    "1.\t**Independence of observations (a.k.a. no autocorrelation)**: The observations/variables you include in your test are not related.\n",
    "2.\t**Homogeneity of variance**: the variance within each group being compared is similar among all groups. If one group has much more variation than others, it will limit the test’s effectiveness.\n",
    "3.\t**Normality of data**: the data follows a normal distribution (a.k.a. a bell curve). This assumption applies only to quantitative data.\n",
    "\n",
    "\n",
    "## Types of test statistics \n",
    "Below is a summary of the most common test statistics, their hypotheses, and the types of statistical tests that use them.\n",
    "\n",
    "| Test Statistic | Null and Alternative Hypotheses |      Statistical Tests |\n",
    "| :-: | :-: | :-: |\n",
    "| t-value | Null: The means of two groups are equal <br />Alternative: The means of two groups are not equal |    T-test |\n",
    "| z-value | Null: The means of two groups are equal <br />Alternative: The means of two groups are not equal |    Z-test |\n",
    "| F-value | Null: The means of two groups are equal <br />Alternative: The means of two groups are not equal |     ANOVA |\n",
    "| X^2-value | Null: The means of two groups are equal <br />Alternative: The means of two groups are not equal |     Chi-Squared test|\t\n",
    "\n",
    "# Interpreting test statistics \n",
    "+ For any combination of sample sizes and number of predictor variables, a statistical test will produce a projected distribution for the test statistic. This shows the most likely range of values that will occur if your data follows the null hypothesis of the statistical test.\n",
    "+ The more extreme your test statistic – the further to the edge of the range of predicted test values it is – the less likely it is that your data could have been generated under the null hypothesis of that statistical test.\n",
    "+ The pact between your calculated test statistic and the predicted values is described by the p-value. The smaller the p-value, the less likely your test statistic is to have occurred under the null hypothesis of the statistical test.\n",
    "\n",
    "## ANOVA (Analysis of Variance) \n",
    "+ ANOVA, which stands for Analysis of Variance, is a statistical test used to analyze the difference between the means of more than two groups.\n",
    "+ A one-way ANOVA uses one independent variable, while a two-way ANOVA uses two independent variables.\n",
    "\n",
    "## one-way ANOVA/two-way ANOVA? \n",
    "+ Use a one-way ANOVA when you have collected data about one categorical independent variable and one quantitative dependent variable. The independent variable should have at least three levels (i.e. at least three different groups or categories).\n",
    "+ ANOVA tells you if the dependent variable changes according to the level of the independent variable. \n",
    "+ The null hypothesis (H0) of ANOVA is that there is no difference among group means. The alternate hypothesis (Ha) is that at least one group differs significantly from the overall mean of the dependent variable.\n",
    "\n",
    "## ANOVA test \n",
    "+ ANOVA determines whether the groups created by the levels of the independent variable are statistically different by calculating whether the means of the treatment levels are different from the overall mean of the dependent variable.\n",
    "+ If any of the group means is significantly different from the overall mean, then the null hypothesis is rejected.\n",
    "+ ANOVA uses the F-test for statistical significance. This allows for comparison of multiple means at once, because the error is calculated for the whole set of comparisons rather than for each individual two-way comparison (which would happen with a t-test).\n",
    "+ The F-test compares the variance in each group mean from the overall group variance. If the variance within groups is smaller than the variance between groups, the F-test will find a higher F-value, and therefore a higher likelihood that the difference observed is real and not due to chance."
   ]
  },
  {
   "cell_type": "markdown",
   "id": "87980ec0",
   "metadata": {},
   "source": [
    "<h1><center> Exploratory Data Analysis </center></h1>"
   ]
  },
  {
   "cell_type": "markdown",
   "id": "b763cb86",
   "metadata": {},
   "source": [
    "## One - Way ANOVA - Data Preparation"
   ]
  },
  {
   "cell_type": "code",
   "execution_count": null,
   "id": "fb563745",
   "metadata": {},
   "outputs": [],
   "source": [
    "#importing the required libraries\n",
    "import pandas as pd \n",
    "import numpy as np\n",
    "import sqlite3\n"
   ]
  },
  {
   "cell_type": "code",
   "execution_count": 36,
   "id": "3ae9518f",
   "metadata": {},
   "outputs": [],
   "source": [
    "# Establishing a connection to the SQLite Database file\n",
    "db_connect = sqlite3.connect(\"C:\\\\Users\\\\Praveen Sheelam\\\\Desktop\\\\Ds Project\\\\DSCI6002_prj1_data.db\")"
   ]
  },
  {
   "cell_type": "code",
   "execution_count": 37,
   "id": "39e045cc",
   "metadata": {},
   "outputs": [],
   "source": [
    "#defining an SQL query and creating a cursor object for executing the query\n",
    "sql_query = \"\"\"SELECT name FROM sqlite_master WHERE type = 'table' ; \"\"\"\n",
    "cursor = db_connect.cursor()"
   ]
  },
  {
   "cell_type": "code",
   "execution_count": 38,
   "id": "b92796a6",
   "metadata": {},
   "outputs": [
    {
     "name": "stdout",
     "output_type": "stream",
     "text": [
      "List of tables\n",
      "\n",
      "[('prj1',)]\n"
     ]
    },
    {
     "data": {
      "text/html": [
       "<div>\n",
       "<style scoped>\n",
       "    .dataframe tbody tr th:only-of-type {\n",
       "        vertical-align: middle;\n",
       "    }\n",
       "\n",
       "    .dataframe tbody tr th {\n",
       "        vertical-align: top;\n",
       "    }\n",
       "\n",
       "    .dataframe thead th {\n",
       "        text-align: right;\n",
       "    }\n",
       "</style>\n",
       "<table border=\"1\" class=\"dataframe\">\n",
       "  <thead>\n",
       "    <tr style=\"text-align: right;\">\n",
       "      <th></th>\n",
       "      <th>index</th>\n",
       "      <th>pre_trt1</th>\n",
       "      <th>post_trt1</th>\n",
       "      <th>pre_trt2</th>\n",
       "      <th>post_trt2</th>\n",
       "      <th>pre_trt3</th>\n",
       "      <th>post_trt3</th>\n",
       "    </tr>\n",
       "  </thead>\n",
       "  <tbody>\n",
       "    <tr>\n",
       "      <th>0</th>\n",
       "      <td>0</td>\n",
       "      <td>67</td>\n",
       "      <td>74</td>\n",
       "      <td>88</td>\n",
       "      <td>79</td>\n",
       "      <td>86</td>\n",
       "      <td>90</td>\n",
       "    </tr>\n",
       "    <tr>\n",
       "      <th>1</th>\n",
       "      <td>1</td>\n",
       "      <td>86</td>\n",
       "      <td>50</td>\n",
       "      <td>79</td>\n",
       "      <td>81</td>\n",
       "      <td>53</td>\n",
       "      <td>53</td>\n",
       "    </tr>\n",
       "    <tr>\n",
       "      <th>2</th>\n",
       "      <td>2</td>\n",
       "      <td>64</td>\n",
       "      <td>64</td>\n",
       "      <td>67</td>\n",
       "      <td>83</td>\n",
       "      <td>81</td>\n",
       "      <td>102</td>\n",
       "    </tr>\n",
       "    <tr>\n",
       "      <th>3</th>\n",
       "      <td>3</td>\n",
       "      <td>69</td>\n",
       "      <td>76</td>\n",
       "      <td>83</td>\n",
       "      <td>74</td>\n",
       "      <td>69</td>\n",
       "      <td>67</td>\n",
       "    </tr>\n",
       "    <tr>\n",
       "      <th>4</th>\n",
       "      <td>4</td>\n",
       "      <td>67</td>\n",
       "      <td>64</td>\n",
       "      <td>79</td>\n",
       "      <td>76</td>\n",
       "      <td>81</td>\n",
       "      <td>76</td>\n",
       "    </tr>\n",
       "    <tr>\n",
       "      <th>5</th>\n",
       "      <td>5</td>\n",
       "      <td>79</td>\n",
       "      <td>81</td>\n",
       "      <td>76</td>\n",
       "      <td>69</td>\n",
       "      <td>76</td>\n",
       "      <td>81</td>\n",
       "    </tr>\n",
       "    <tr>\n",
       "      <th>6</th>\n",
       "      <td>6</td>\n",
       "      <td>67</td>\n",
       "      <td>74</td>\n",
       "      <td>71</td>\n",
       "      <td>71</td>\n",
       "      <td>74</td>\n",
       "      <td>69</td>\n",
       "    </tr>\n",
       "    <tr>\n",
       "      <th>7</th>\n",
       "      <td>7</td>\n",
       "      <td>67</td>\n",
       "      <td>50</td>\n",
       "      <td>67</td>\n",
       "      <td>75</td>\n",
       "      <td>60</td>\n",
       "      <td>60</td>\n",
       "    </tr>\n",
       "    <tr>\n",
       "      <th>8</th>\n",
       "      <td>8</td>\n",
       "      <td>69</td>\n",
       "      <td>60</td>\n",
       "      <td>69</td>\n",
       "      <td>64</td>\n",
       "      <td>67</td>\n",
       "      <td>69</td>\n",
       "    </tr>\n",
       "    <tr>\n",
       "      <th>9</th>\n",
       "      <td>9</td>\n",
       "      <td>57</td>\n",
       "      <td>57</td>\n",
       "      <td>67</td>\n",
       "      <td>64</td>\n",
       "      <td>86</td>\n",
       "      <td>83</td>\n",
       "    </tr>\n",
       "    <tr>\n",
       "      <th>10</th>\n",
       "      <td>10</td>\n",
       "      <td>76</td>\n",
       "      <td>62</td>\n",
       "      <td>67</td>\n",
       "      <td>64</td>\n",
       "      <td>86</td>\n",
       "      <td>107</td>\n",
       "    </tr>\n",
       "    <tr>\n",
       "      <th>11</th>\n",
       "      <td>11</td>\n",
       "      <td>90</td>\n",
       "      <td>76</td>\n",
       "      <td>74</td>\n",
       "      <td>71</td>\n",
       "      <td>74</td>\n",
       "      <td>71</td>\n",
       "    </tr>\n",
       "    <tr>\n",
       "      <th>12</th>\n",
       "      <td>12</td>\n",
       "      <td>71</td>\n",
       "      <td>71</td>\n",
       "      <td>81</td>\n",
       "      <td>74</td>\n",
       "      <td>71</td>\n",
       "      <td>71</td>\n",
       "    </tr>\n",
       "    <tr>\n",
       "      <th>13</th>\n",
       "      <td>13</td>\n",
       "      <td>93</td>\n",
       "      <td>76</td>\n",
       "      <td>81</td>\n",
       "      <td>64</td>\n",
       "      <td>71</td>\n",
       "      <td>81</td>\n",
       "    </tr>\n",
       "  </tbody>\n",
       "</table>\n",
       "</div>"
      ],
      "text/plain": [
       "    index  pre_trt1  post_trt1  pre_trt2  post_trt2  pre_trt3  post_trt3\n",
       "0       0        67         74        88         79        86         90\n",
       "1       1        86         50        79         81        53         53\n",
       "2       2        64         64        67         83        81        102\n",
       "3       3        69         76        83         74        69         67\n",
       "4       4        67         64        79         76        81         76\n",
       "5       5        79         81        76         69        76         81\n",
       "6       6        67         74        71         71        74         69\n",
       "7       7        67         50        67         75        60         60\n",
       "8       8        69         60        69         64        67         69\n",
       "9       9        57         57        67         64        86         83\n",
       "10     10        76         62        67         64        86        107\n",
       "11     11        90         76        74         71        74         71\n",
       "12     12        71         71        81         74        71         71\n",
       "13     13        93         76        81         64        71         81"
      ]
     },
     "execution_count": 38,
     "metadata": {},
     "output_type": "execute_result"
    }
   ],
   "source": [
    "# Executing the SQL query and reading the data into the dataframe\n",
    "cursor.execute(sql_query)\n",
    "print(\"List of tables\\n\")\n",
    "print(cursor.fetchall())\n",
    "df = pd.read_sql_query(\"SELECT * from prj1\", db_connect)\n",
    "df"
   ]
  },
  {
   "cell_type": "markdown",
   "id": "0e2d267b",
   "metadata": {},
   "source": [
    "### calculating change scores for evaluating the effectiveness of treatments and interventions. It provides a direct measure of treatment effect, allows for individualized assessment, controls for individual differences, offers a standardized measure, and facilitates interpretation and communication of research findings."
   ]
  },
  {
   "cell_type": "code",
   "execution_count": 42,
   "id": "c83a67be",
   "metadata": {},
   "outputs": [],
   "source": [
    "# subtracting the pre_trt from post_trt and storing in to the New column change_trt\n",
    "df['change_trt1'] = df['post_trt1'] - df['pre_trt1']\n",
    "df['change_trt2'] = df['post_trt2'] - df['pre_trt2']\n",
    "df['change_trt3'] = df['post_trt3'] - df['pre_trt3']"
   ]
  },
  {
   "cell_type": "code",
   "execution_count": 43,
   "id": "4bb8099a",
   "metadata": {},
   "outputs": [
    {
     "data": {
      "text/html": [
       "<div>\n",
       "<style scoped>\n",
       "    .dataframe tbody tr th:only-of-type {\n",
       "        vertical-align: middle;\n",
       "    }\n",
       "\n",
       "    .dataframe tbody tr th {\n",
       "        vertical-align: top;\n",
       "    }\n",
       "\n",
       "    .dataframe thead th {\n",
       "        text-align: right;\n",
       "    }\n",
       "</style>\n",
       "<table border=\"1\" class=\"dataframe\">\n",
       "  <thead>\n",
       "    <tr style=\"text-align: right;\">\n",
       "      <th></th>\n",
       "      <th>index</th>\n",
       "      <th>pre_trt1</th>\n",
       "      <th>post_trt1</th>\n",
       "      <th>pre_trt2</th>\n",
       "      <th>post_trt2</th>\n",
       "      <th>pre_trt3</th>\n",
       "      <th>post_trt3</th>\n",
       "      <th>change_trt1</th>\n",
       "      <th>change_trt2</th>\n",
       "      <th>change_trt3</th>\n",
       "    </tr>\n",
       "  </thead>\n",
       "  <tbody>\n",
       "    <tr>\n",
       "      <th>0</th>\n",
       "      <td>0</td>\n",
       "      <td>67</td>\n",
       "      <td>74</td>\n",
       "      <td>88</td>\n",
       "      <td>79</td>\n",
       "      <td>86</td>\n",
       "      <td>90</td>\n",
       "      <td>7</td>\n",
       "      <td>-9</td>\n",
       "      <td>4</td>\n",
       "    </tr>\n",
       "    <tr>\n",
       "      <th>1</th>\n",
       "      <td>1</td>\n",
       "      <td>86</td>\n",
       "      <td>50</td>\n",
       "      <td>79</td>\n",
       "      <td>81</td>\n",
       "      <td>53</td>\n",
       "      <td>53</td>\n",
       "      <td>-36</td>\n",
       "      <td>2</td>\n",
       "      <td>0</td>\n",
       "    </tr>\n",
       "    <tr>\n",
       "      <th>2</th>\n",
       "      <td>2</td>\n",
       "      <td>64</td>\n",
       "      <td>64</td>\n",
       "      <td>67</td>\n",
       "      <td>83</td>\n",
       "      <td>81</td>\n",
       "      <td>102</td>\n",
       "      <td>0</td>\n",
       "      <td>16</td>\n",
       "      <td>21</td>\n",
       "    </tr>\n",
       "    <tr>\n",
       "      <th>3</th>\n",
       "      <td>3</td>\n",
       "      <td>69</td>\n",
       "      <td>76</td>\n",
       "      <td>83</td>\n",
       "      <td>74</td>\n",
       "      <td>69</td>\n",
       "      <td>67</td>\n",
       "      <td>7</td>\n",
       "      <td>-9</td>\n",
       "      <td>-2</td>\n",
       "    </tr>\n",
       "    <tr>\n",
       "      <th>4</th>\n",
       "      <td>4</td>\n",
       "      <td>67</td>\n",
       "      <td>64</td>\n",
       "      <td>79</td>\n",
       "      <td>76</td>\n",
       "      <td>81</td>\n",
       "      <td>76</td>\n",
       "      <td>-3</td>\n",
       "      <td>-3</td>\n",
       "      <td>-5</td>\n",
       "    </tr>\n",
       "  </tbody>\n",
       "</table>\n",
       "</div>"
      ],
      "text/plain": [
       "   index  pre_trt1  post_trt1  pre_trt2  post_trt2  pre_trt3  post_trt3  \\\n",
       "0      0        67         74        88         79        86         90   \n",
       "1      1        86         50        79         81        53         53   \n",
       "2      2        64         64        67         83        81        102   \n",
       "3      3        69         76        83         74        69         67   \n",
       "4      4        67         64        79         76        81         76   \n",
       "\n",
       "   change_trt1  change_trt2  change_trt3  \n",
       "0            7           -9            4  \n",
       "1          -36            2            0  \n",
       "2            0           16           21  \n",
       "3            7           -9           -2  \n",
       "4           -3           -3           -5  "
      ]
     },
     "execution_count": 43,
     "metadata": {},
     "output_type": "execute_result"
    }
   ],
   "source": [
    "#returing the 1st 5 rows in the Table\n",
    "df.head()\n"
   ]
  },
  {
   "cell_type": "code",
   "execution_count": 44,
   "id": "d5efbab4",
   "metadata": {},
   "outputs": [],
   "source": [
    "#selecting the Last three columns of the Data frame \n",
    "d = df.iloc[:, -3:]"
   ]
  },
  {
   "cell_type": "code",
   "execution_count": 45,
   "id": "d50f1d29",
   "metadata": {},
   "outputs": [
    {
     "data": {
      "text/html": [
       "<div>\n",
       "<style scoped>\n",
       "    .dataframe tbody tr th:only-of-type {\n",
       "        vertical-align: middle;\n",
       "    }\n",
       "\n",
       "    .dataframe tbody tr th {\n",
       "        vertical-align: top;\n",
       "    }\n",
       "\n",
       "    .dataframe thead th {\n",
       "        text-align: right;\n",
       "    }\n",
       "</style>\n",
       "<table border=\"1\" class=\"dataframe\">\n",
       "  <thead>\n",
       "    <tr style=\"text-align: right;\">\n",
       "      <th></th>\n",
       "      <th>change_trt1</th>\n",
       "      <th>change_trt2</th>\n",
       "      <th>change_trt3</th>\n",
       "    </tr>\n",
       "  </thead>\n",
       "  <tbody>\n",
       "    <tr>\n",
       "      <th>0</th>\n",
       "      <td>7</td>\n",
       "      <td>-9</td>\n",
       "      <td>4</td>\n",
       "    </tr>\n",
       "    <tr>\n",
       "      <th>1</th>\n",
       "      <td>-36</td>\n",
       "      <td>2</td>\n",
       "      <td>0</td>\n",
       "    </tr>\n",
       "    <tr>\n",
       "      <th>2</th>\n",
       "      <td>0</td>\n",
       "      <td>16</td>\n",
       "      <td>21</td>\n",
       "    </tr>\n",
       "    <tr>\n",
       "      <th>3</th>\n",
       "      <td>7</td>\n",
       "      <td>-9</td>\n",
       "      <td>-2</td>\n",
       "    </tr>\n",
       "    <tr>\n",
       "      <th>4</th>\n",
       "      <td>-3</td>\n",
       "      <td>-3</td>\n",
       "      <td>-5</td>\n",
       "    </tr>\n",
       "  </tbody>\n",
       "</table>\n",
       "</div>"
      ],
      "text/plain": [
       "   change_trt1  change_trt2  change_trt3\n",
       "0            7           -9            4\n",
       "1          -36            2            0\n",
       "2            0           16           21\n",
       "3            7           -9           -2\n",
       "4           -3           -3           -5"
      ]
     },
     "execution_count": 45,
     "metadata": {},
     "output_type": "execute_result"
    }
   ],
   "source": [
    "#returing the 1st 5 rows in the Table\n",
    "d.head()\n"
   ]
  },
  {
   "cell_type": "code",
   "execution_count": 46,
   "id": "bc3c3261",
   "metadata": {},
   "outputs": [
    {
     "data": {
      "text/plain": [
       "<Axes: >"
      ]
     },
     "execution_count": 46,
     "metadata": {},
     "output_type": "execute_result"
    },
    {
     "data": {
      "image/png": "[encoded data removed]",
      "text/plain": [
       "<Figure size 640x480 with 1 Axes>"
      ]
     },
     "metadata": {},
     "output_type": "display_data"
    }
   ],
   "source": [
    "#creating a boxplot comparing the change scores for the three treatment groups\n",
    "d.boxplot(column = ['change_trt1','change_trt2','change_trt3'], grid =False)"
   ]
  },
  {
   "cell_type": "markdown",
   "id": "38234685",
   "metadata": {},
   "source": [
    "<h1><center>Anova Anlaysis and Explanation</center></h1>"
   ]
  },
  {
   "cell_type": "markdown",
   "id": "21e4b60a",
   "metadata": {},
   "source": [
    "## Generating the Hypotheses \n",
    "## Null Hypotheses : Average score difference is the same for all treatments.\n",
    "## Alternative Hypotheses : At least one pair of means are different.\n",
    "## Taking the significance Value : 0.05"
   ]
  },
  {
   "cell_type": "markdown",
   "id": "08c81ee7",
   "metadata": {},
   "source": [
    "\n",
    "\n",
    "## One - Way ANOVA - Model"
   ]
  },
  {
   "cell_type": "code",
   "execution_count": 16,
   "id": "44a14dc3",
   "metadata": {},
   "outputs": [],
   "source": [
    "# importing the statmodels.api library for the statistical functions.\n",
    "import statsmodels.api as sm  \n",
    "from statsmodels.formula.api import ols # importing the Ordinary Least Squares [OLS] regression Module - for fitting the linear regression model to Data"
   ]
  },
  {
   "cell_type": "code",
   "execution_count": 17,
   "id": "58086926",
   "metadata": {},
   "outputs": [],
   "source": [
    "# Melting (or) reshaping the Dataframe from the wider format to Long Format\n",
    "d_melt = pd.melt(d.reset_index(), id_vars = ['index'], value_vars = ['change_trt1', 'change_trt2', 'change_trt3'])"
   ]
  },
  {
   "cell_type": "code",
   "execution_count": 18,
   "id": "32ae20a1",
   "metadata": {},
   "outputs": [
    {
     "data": {
      "text/html": [
       "<div>\n",
       "<style scoped>\n",
       "    .dataframe tbody tr th:only-of-type {\n",
       "        vertical-align: middle;\n",
       "    }\n",
       "\n",
       "    .dataframe tbody tr th {\n",
       "        vertical-align: top;\n",
       "    }\n",
       "\n",
       "    .dataframe thead th {\n",
       "        text-align: right;\n",
       "    }\n",
       "</style>\n",
       "<table border=\"1\" class=\"dataframe\">\n",
       "  <thead>\n",
       "    <tr style=\"text-align: right;\">\n",
       "      <th></th>\n",
       "      <th>index</th>\n",
       "      <th>treatments</th>\n",
       "      <th>value</th>\n",
       "    </tr>\n",
       "  </thead>\n",
       "  <tbody>\n",
       "    <tr>\n",
       "      <th>0</th>\n",
       "      <td>0</td>\n",
       "      <td>change_trt1</td>\n",
       "      <td>7</td>\n",
       "    </tr>\n",
       "    <tr>\n",
       "      <th>1</th>\n",
       "      <td>1</td>\n",
       "      <td>change_trt1</td>\n",
       "      <td>-36</td>\n",
       "    </tr>\n",
       "    <tr>\n",
       "      <th>2</th>\n",
       "      <td>2</td>\n",
       "      <td>change_trt1</td>\n",
       "      <td>0</td>\n",
       "    </tr>\n",
       "    <tr>\n",
       "      <th>3</th>\n",
       "      <td>3</td>\n",
       "      <td>change_trt1</td>\n",
       "      <td>7</td>\n",
       "    </tr>\n",
       "    <tr>\n",
       "      <th>4</th>\n",
       "      <td>4</td>\n",
       "      <td>change_trt1</td>\n",
       "      <td>-3</td>\n",
       "    </tr>\n",
       "    <tr>\n",
       "      <th>5</th>\n",
       "      <td>5</td>\n",
       "      <td>change_trt1</td>\n",
       "      <td>2</td>\n",
       "    </tr>\n",
       "    <tr>\n",
       "      <th>6</th>\n",
       "      <td>6</td>\n",
       "      <td>change_trt1</td>\n",
       "      <td>7</td>\n",
       "    </tr>\n",
       "    <tr>\n",
       "      <th>7</th>\n",
       "      <td>7</td>\n",
       "      <td>change_trt1</td>\n",
       "      <td>-17</td>\n",
       "    </tr>\n",
       "    <tr>\n",
       "      <th>8</th>\n",
       "      <td>8</td>\n",
       "      <td>change_trt1</td>\n",
       "      <td>-9</td>\n",
       "    </tr>\n",
       "    <tr>\n",
       "      <th>9</th>\n",
       "      <td>9</td>\n",
       "      <td>change_trt1</td>\n",
       "      <td>0</td>\n",
       "    </tr>\n",
       "    <tr>\n",
       "      <th>10</th>\n",
       "      <td>10</td>\n",
       "      <td>change_trt1</td>\n",
       "      <td>-14</td>\n",
       "    </tr>\n",
       "    <tr>\n",
       "      <th>11</th>\n",
       "      <td>11</td>\n",
       "      <td>change_trt1</td>\n",
       "      <td>-14</td>\n",
       "    </tr>\n",
       "    <tr>\n",
       "      <th>12</th>\n",
       "      <td>12</td>\n",
       "      <td>change_trt1</td>\n",
       "      <td>0</td>\n",
       "    </tr>\n",
       "    <tr>\n",
       "      <th>13</th>\n",
       "      <td>13</td>\n",
       "      <td>change_trt1</td>\n",
       "      <td>-17</td>\n",
       "    </tr>\n",
       "    <tr>\n",
       "      <th>14</th>\n",
       "      <td>0</td>\n",
       "      <td>change_trt2</td>\n",
       "      <td>-9</td>\n",
       "    </tr>\n",
       "    <tr>\n",
       "      <th>15</th>\n",
       "      <td>1</td>\n",
       "      <td>change_trt2</td>\n",
       "      <td>2</td>\n",
       "    </tr>\n",
       "    <tr>\n",
       "      <th>16</th>\n",
       "      <td>2</td>\n",
       "      <td>change_trt2</td>\n",
       "      <td>16</td>\n",
       "    </tr>\n",
       "    <tr>\n",
       "      <th>17</th>\n",
       "      <td>3</td>\n",
       "      <td>change_trt2</td>\n",
       "      <td>-9</td>\n",
       "    </tr>\n",
       "    <tr>\n",
       "      <th>18</th>\n",
       "      <td>4</td>\n",
       "      <td>change_trt2</td>\n",
       "      <td>-3</td>\n",
       "    </tr>\n",
       "    <tr>\n",
       "      <th>19</th>\n",
       "      <td>5</td>\n",
       "      <td>change_trt2</td>\n",
       "      <td>-7</td>\n",
       "    </tr>\n",
       "    <tr>\n",
       "      <th>20</th>\n",
       "      <td>6</td>\n",
       "      <td>change_trt2</td>\n",
       "      <td>0</td>\n",
       "    </tr>\n",
       "    <tr>\n",
       "      <th>21</th>\n",
       "      <td>7</td>\n",
       "      <td>change_trt2</td>\n",
       "      <td>8</td>\n",
       "    </tr>\n",
       "    <tr>\n",
       "      <th>22</th>\n",
       "      <td>8</td>\n",
       "      <td>change_trt2</td>\n",
       "      <td>-5</td>\n",
       "    </tr>\n",
       "    <tr>\n",
       "      <th>23</th>\n",
       "      <td>9</td>\n",
       "      <td>change_trt2</td>\n",
       "      <td>-3</td>\n",
       "    </tr>\n",
       "    <tr>\n",
       "      <th>24</th>\n",
       "      <td>10</td>\n",
       "      <td>change_trt2</td>\n",
       "      <td>-3</td>\n",
       "    </tr>\n",
       "    <tr>\n",
       "      <th>25</th>\n",
       "      <td>11</td>\n",
       "      <td>change_trt2</td>\n",
       "      <td>-3</td>\n",
       "    </tr>\n",
       "    <tr>\n",
       "      <th>26</th>\n",
       "      <td>12</td>\n",
       "      <td>change_trt2</td>\n",
       "      <td>-7</td>\n",
       "    </tr>\n",
       "    <tr>\n",
       "      <th>27</th>\n",
       "      <td>13</td>\n",
       "      <td>change_trt2</td>\n",
       "      <td>-17</td>\n",
       "    </tr>\n",
       "    <tr>\n",
       "      <th>28</th>\n",
       "      <td>0</td>\n",
       "      <td>change_trt3</td>\n",
       "      <td>4</td>\n",
       "    </tr>\n",
       "    <tr>\n",
       "      <th>29</th>\n",
       "      <td>1</td>\n",
       "      <td>change_trt3</td>\n",
       "      <td>0</td>\n",
       "    </tr>\n",
       "    <tr>\n",
       "      <th>30</th>\n",
       "      <td>2</td>\n",
       "      <td>change_trt3</td>\n",
       "      <td>21</td>\n",
       "    </tr>\n",
       "    <tr>\n",
       "      <th>31</th>\n",
       "      <td>3</td>\n",
       "      <td>change_trt3</td>\n",
       "      <td>-2</td>\n",
       "    </tr>\n",
       "    <tr>\n",
       "      <th>32</th>\n",
       "      <td>4</td>\n",
       "      <td>change_trt3</td>\n",
       "      <td>-5</td>\n",
       "    </tr>\n",
       "    <tr>\n",
       "      <th>33</th>\n",
       "      <td>5</td>\n",
       "      <td>change_trt3</td>\n",
       "      <td>5</td>\n",
       "    </tr>\n",
       "    <tr>\n",
       "      <th>34</th>\n",
       "      <td>6</td>\n",
       "      <td>change_trt3</td>\n",
       "      <td>-5</td>\n",
       "    </tr>\n",
       "    <tr>\n",
       "      <th>35</th>\n",
       "      <td>7</td>\n",
       "      <td>change_trt3</td>\n",
       "      <td>0</td>\n",
       "    </tr>\n",
       "    <tr>\n",
       "      <th>36</th>\n",
       "      <td>8</td>\n",
       "      <td>change_trt3</td>\n",
       "      <td>2</td>\n",
       "    </tr>\n",
       "    <tr>\n",
       "      <th>37</th>\n",
       "      <td>9</td>\n",
       "      <td>change_trt3</td>\n",
       "      <td>-3</td>\n",
       "    </tr>\n",
       "    <tr>\n",
       "      <th>38</th>\n",
       "      <td>10</td>\n",
       "      <td>change_trt3</td>\n",
       "      <td>21</td>\n",
       "    </tr>\n",
       "    <tr>\n",
       "      <th>39</th>\n",
       "      <td>11</td>\n",
       "      <td>change_trt3</td>\n",
       "      <td>-3</td>\n",
       "    </tr>\n",
       "    <tr>\n",
       "      <th>40</th>\n",
       "      <td>12</td>\n",
       "      <td>change_trt3</td>\n",
       "      <td>0</td>\n",
       "    </tr>\n",
       "    <tr>\n",
       "      <th>41</th>\n",
       "      <td>13</td>\n",
       "      <td>change_trt3</td>\n",
       "      <td>10</td>\n",
       "    </tr>\n",
       "  </tbody>\n",
       "</table>\n",
       "</div>"
      ],
      "text/plain": [
       "    index   treatments  value\n",
       "0       0  change_trt1      7\n",
       "1       1  change_trt1    -36\n",
       "2       2  change_trt1      0\n",
       "3       3  change_trt1      7\n",
       "4       4  change_trt1     -3\n",
       "5       5  change_trt1      2\n",
       "6       6  change_trt1      7\n",
       "7       7  change_trt1    -17\n",
       "8       8  change_trt1     -9\n",
       "9       9  change_trt1      0\n",
       "10     10  change_trt1    -14\n",
       "11     11  change_trt1    -14\n",
       "12     12  change_trt1      0\n",
       "13     13  change_trt1    -17\n",
       "14      0  change_trt2     -9\n",
       "15      1  change_trt2      2\n",
       "16      2  change_trt2     16\n",
       "17      3  change_trt2     -9\n",
       "18      4  change_trt2     -3\n",
       "19      5  change_trt2     -7\n",
       "20      6  change_trt2      0\n",
       "21      7  change_trt2      8\n",
       "22      8  change_trt2     -5\n",
       "23      9  change_trt2     -3\n",
       "24     10  change_trt2     -3\n",
       "25     11  change_trt2     -3\n",
       "26     12  change_trt2     -7\n",
       "27     13  change_trt2    -17\n",
       "28      0  change_trt3      4\n",
       "29      1  change_trt3      0\n",
       "30      2  change_trt3     21\n",
       "31      3  change_trt3     -2\n",
       "32      4  change_trt3     -5\n",
       "33      5  change_trt3      5\n",
       "34      6  change_trt3     -5\n",
       "35      7  change_trt3      0\n",
       "36      8  change_trt3      2\n",
       "37      9  change_trt3     -3\n",
       "38     10  change_trt3     21\n",
       "39     11  change_trt3     -3\n",
       "40     12  change_trt3      0\n",
       "41     13  change_trt3     10"
      ]
     },
     "execution_count": 18,
     "metadata": {},
     "output_type": "execute_result"
    }
   ],
   "source": [
    "#Modifying and asigning the new names to the Existing columns\n",
    "d_melt.columns = ['index', 'treatments', 'value']\n",
    "d_melt"
   ]
  },
  {
   "cell_type": "code",
   "execution_count": 19,
   "id": "883d9b96",
   "metadata": {},
   "outputs": [],
   "source": [
    "#creating an OLS model object, fits the model to the data, and stores the fitted model in the variable\n",
    "model = ols('value~C(treatments)', data = d_melt).fit()"
   ]
  },
  {
   "cell_type": "code",
   "execution_count": 20,
   "id": "539ba55c",
   "metadata": {},
   "outputs": [
    {
     "data": {
      "text/html": [
       "<table class=\"simpletable\">\n",
       "<caption>OLS Regression Results</caption>\n",
       "<tr>\n",
       "  <th>Dep. Variable:</th>          <td>value</td>      <th>  R-squared:         </th> <td>   0.146</td>\n",
       "</tr>\n",
       "<tr>\n",
       "  <th>Model:</th>                   <td>OLS</td>       <th>  Adj. R-squared:    </th> <td>   0.102</td>\n",
       "</tr>\n",
       "<tr>\n",
       "  <th>Method:</th>             <td>Least Squares</td>  <th>  F-statistic:       </th> <td>   3.334</td>\n",
       "</tr>\n",
       "<tr>\n",
       "  <th>Date:</th>             <td>Wed, 15 Nov 2023</td> <th>  Prob (F-statistic):</th>  <td>0.0461</td> \n",
       "</tr>\n",
       "<tr>\n",
       "  <th>Time:</th>                 <td>15:57:36</td>     <th>  Log-Likelihood:    </th> <td> -153.87</td>\n",
       "</tr>\n",
       "<tr>\n",
       "  <th>No. Observations:</th>      <td>    42</td>      <th>  AIC:               </th> <td>   313.7</td>\n",
       "</tr>\n",
       "<tr>\n",
       "  <th>Df Residuals:</th>          <td>    39</td>      <th>  BIC:               </th> <td>   319.0</td>\n",
       "</tr>\n",
       "<tr>\n",
       "  <th>Df Model:</th>              <td>     2</td>      <th>                     </th>     <td> </td>   \n",
       "</tr>\n",
       "<tr>\n",
       "  <th>Covariance Type:</th>      <td>nonrobust</td>    <th>                     </th>     <td> </td>   \n",
       "</tr>\n",
       "</table>\n",
       "<table class=\"simpletable\">\n",
       "<tr>\n",
       "                <td></td>                  <th>coef</th>     <th>std err</th>      <th>t</th>      <th>P>|t|</th>  <th>[0.025</th>    <th>0.975]</th>  \n",
       "</tr>\n",
       "<tr>\n",
       "  <th>Intercept</th>                    <td>   -6.2143</td> <td>    2.617</td> <td>   -2.374</td> <td> 0.023</td> <td>  -11.508</td> <td>   -0.920</td>\n",
       "</tr>\n",
       "<tr>\n",
       "  <th>C(treatments)[T.change_trt2]</th> <td>    3.3571</td> <td>    3.702</td> <td>    0.907</td> <td> 0.370</td> <td>   -4.130</td> <td>   10.844</td>\n",
       "</tr>\n",
       "<tr>\n",
       "  <th>C(treatments)[T.change_trt3]</th> <td>    9.4286</td> <td>    3.702</td> <td>    2.547</td> <td> 0.015</td> <td>    1.942</td> <td>   16.916</td>\n",
       "</tr>\n",
       "</table>\n",
       "<table class=\"simpletable\">\n",
       "<tr>\n",
       "  <th>Omnibus:</th>       <td> 2.869</td> <th>  Durbin-Watson:     </th> <td>   2.378</td>\n",
       "</tr>\n",
       "<tr>\n",
       "  <th>Prob(Omnibus):</th> <td> 0.238</td> <th>  Jarque-Bera (JB):  </th> <td>   1.938</td>\n",
       "</tr>\n",
       "<tr>\n",
       "  <th>Skew:</th>          <td>-0.205</td> <th>  Prob(JB):          </th> <td>   0.380</td>\n",
       "</tr>\n",
       "<tr>\n",
       "  <th>Kurtosis:</th>      <td> 3.969</td> <th>  Cond. No.          </th> <td>    3.73</td>\n",
       "</tr>\n",
       "</table><br/><br/>Notes:<br/>[1] Standard Errors assume that the covariance matrix of the errors is correctly specified."
      ],
      "text/latex": [
       "\\begin{center}\n",
       "\\begin{tabular}{lclc}\n",
       "\\toprule\n",
       "\\textbf{Dep. Variable:}                &      value       & \\textbf{  R-squared:         } &     0.146   \\\\\n",
       "\\textbf{Model:}                        &       OLS        & \\textbf{  Adj. R-squared:    } &     0.102   \\\\\n",
       "\\textbf{Method:}                       &  Least Squares   & \\textbf{  F-statistic:       } &     3.334   \\\\\n",
       "\\textbf{Date:}                         & Wed, 15 Nov 2023 & \\textbf{  Prob (F-statistic):} &   0.0461    \\\\\n",
       "\\textbf{Time:}                         &     15:57:36     & \\textbf{  Log-Likelihood:    } &   -153.87   \\\\\n",
       "\\textbf{No. Observations:}             &          42      & \\textbf{  AIC:               } &     313.7   \\\\\n",
       "\\textbf{Df Residuals:}                 &          39      & \\textbf{  BIC:               } &     319.0   \\\\\n",
       "\\textbf{Df Model:}                     &           2      & \\textbf{                     } &             \\\\\n",
       "\\textbf{Covariance Type:}              &    nonrobust     & \\textbf{                     } &             \\\\\n",
       "\\bottomrule\n",
       "\\end{tabular}\n",
       "\\begin{tabular}{lcccccc}\n",
       "                                       & \\textbf{coef} & \\textbf{std err} & \\textbf{t} & \\textbf{P$> |$t$|$} & \\textbf{[0.025} & \\textbf{0.975]}  \\\\\n",
       "\\midrule\n",
       "\\textbf{Intercept}                     &      -6.2143  &        2.617     &    -2.374  &         0.023        &      -11.508    &       -0.920     \\\\\n",
       "\\textbf{C(treatments)[T.change\\_trt2]} &       3.3571  &        3.702     &     0.907  &         0.370        &       -4.130    &       10.844     \\\\\n",
       "\\textbf{C(treatments)[T.change\\_trt3]} &       9.4286  &        3.702     &     2.547  &         0.015        &        1.942    &       16.916     \\\\\n",
       "\\bottomrule\n",
       "\\end{tabular}\n",
       "\\begin{tabular}{lclc}\n",
       "\\textbf{Omnibus:}       &  2.869 & \\textbf{  Durbin-Watson:     } &    2.378  \\\\\n",
       "\\textbf{Prob(Omnibus):} &  0.238 & \\textbf{  Jarque-Bera (JB):  } &    1.938  \\\\\n",
       "\\textbf{Skew:}          & -0.205 & \\textbf{  Prob(JB):          } &    0.380  \\\\\n",
       "\\textbf{Kurtosis:}      &  3.969 & \\textbf{  Cond. No.          } &     3.73  \\\\\n",
       "\\bottomrule\n",
       "\\end{tabular}\n",
       "%\\caption{OLS Regression Results}\n",
       "\\end{center}\n",
       "\n",
       "Notes: \\newline\n",
       " [1] Standard Errors assume that the covariance matrix of the errors is correctly specified."
      ],
      "text/plain": [
       "<class 'statsmodels.iolib.summary.Summary'>\n",
       "\"\"\"\n",
       "                            OLS Regression Results                            \n",
       "==============================================================================\n",
       "Dep. Variable:                  value   R-squared:                       0.146\n",
       "Model:                            OLS   Adj. R-squared:                  0.102\n",
       "Method:                 Least Squares   F-statistic:                     3.334\n",
       "Date:                Wed, 15 Nov 2023   Prob (F-statistic):             0.0461\n",
       "Time:                        15:57:36   Log-Likelihood:                -153.87\n",
       "No. Observations:                  42   AIC:                             313.7\n",
       "Df Residuals:                      39   BIC:                             319.0\n",
       "Df Model:                           2                                         \n",
       "Covariance Type:            nonrobust                                         \n",
       "================================================================================================\n",
       "                                   coef    std err          t      P>|t|      [0.025      0.975]\n",
       "------------------------------------------------------------------------------------------------\n",
       "Intercept                       -6.2143      2.617     -2.374      0.023     -11.508      -0.920\n",
       "C(treatments)[T.change_trt2]     3.3571      3.702      0.907      0.370      -4.130      10.844\n",
       "C(treatments)[T.change_trt3]     9.4286      3.702      2.547      0.015       1.942      16.916\n",
       "==============================================================================\n",
       "Omnibus:                        2.869   Durbin-Watson:                   2.378\n",
       "Prob(Omnibus):                  0.238   Jarque-Bera (JB):                1.938\n",
       "Skew:                          -0.205   Prob(JB):                        0.380\n",
       "Kurtosis:                       3.969   Cond. No.                         3.73\n",
       "==============================================================================\n",
       "\n",
       "Notes:\n",
       "[1] Standard Errors assume that the covariance matrix of the errors is correctly specified.\n",
       "\"\"\""
      ]
     },
     "execution_count": 20,
     "metadata": {},
     "output_type": "execute_result"
    }
   ],
   "source": [
    "#printing the summary of the Model\n",
    "model.summary()"
   ]
  },
  {
   "cell_type": "code",
   "execution_count": 21,
   "id": "84324c7f",
   "metadata": {},
   "outputs": [
    {
     "name": "stdout",
     "output_type": "stream",
     "text": [
      "                    sum_sq    df         F    PR(>F)\n",
      "C(treatments)   639.476190   2.0  3.333785  0.046069\n",
      "Residual       3740.428571  39.0       NaN       NaN\n"
     ]
    }
   ],
   "source": [
    "#performing an ANOVA (Analysis of Variance) test to compare the fitted OLS regression model and also calculating the Anova Table\n",
    "anova_table = sm.stats.anova_lm(model, typ =2)\n",
    "print(anova_table)"
   ]
  },
  {
   "cell_type": "code",
   "execution_count": 22,
   "id": "5fc30f0f",
   "metadata": {},
   "outputs": [
    {
     "name": "stdout",
     "output_type": "stream",
     "text": [
      "                    sum_sq    df         F    PR(>F)     EtaSq\n",
      "C(treatments)   639.476190   2.0  3.333785  0.046069  0.146002\n",
      "Residual       3740.428571  39.0       NaN       NaN       NaN\n"
     ]
    }
   ],
   "source": [
    "#Calculating the Eta-squared and adding it to the ANOVA table\n",
    "esq_sm = anova_table['sum_sq'][0]/(anova_table['sum_sq'][0]+anova_table['sum_sq'][1])\n",
    "anova_table['EtaSq'] = [esq_sm, 'NaN']\n",
    "print(anova_table)"
   ]
  },
  {
   "cell_type": "markdown",
   "id": "69872bdd",
   "metadata": {},
   "source": [
    "## One - Way ANOVA : Multiple Pairwise Comparisions"
   ]
  },
  {
   "cell_type": "code",
   "execution_count": 23,
   "id": "77d39dd7",
   "metadata": {},
   "outputs": [
    {
     "data": {
      "text/html": [
       "<div>\n",
       "<style scoped>\n",
       "    .dataframe tbody tr th:only-of-type {\n",
       "        vertical-align: middle;\n",
       "    }\n",
       "\n",
       "    .dataframe tbody tr th {\n",
       "        vertical-align: top;\n",
       "    }\n",
       "\n",
       "    .dataframe thead th {\n",
       "        text-align: right;\n",
       "    }\n",
       "</style>\n",
       "<table border=\"1\" class=\"dataframe\">\n",
       "  <thead>\n",
       "    <tr style=\"text-align: right;\">\n",
       "      <th></th>\n",
       "      <th>coef</th>\n",
       "      <th>std err</th>\n",
       "      <th>t</th>\n",
       "      <th>P&gt;|t|</th>\n",
       "      <th>Conf. Int. Low</th>\n",
       "      <th>Conf. Int. Upp.</th>\n",
       "      <th>pvalue-hs</th>\n",
       "      <th>reject-hs</th>\n",
       "    </tr>\n",
       "  </thead>\n",
       "  <tbody>\n",
       "    <tr>\n",
       "      <th>change_trt2-change_trt1</th>\n",
       "      <td>3.357143</td>\n",
       "      <td>3.701514</td>\n",
       "      <td>0.906965</td>\n",
       "      <td>0.369995</td>\n",
       "      <td>-4.129875</td>\n",
       "      <td>10.844161</td>\n",
       "      <td>0.369995</td>\n",
       "      <td>False</td>\n",
       "    </tr>\n",
       "    <tr>\n",
       "      <th>change_trt3-change_trt1</th>\n",
       "      <td>9.428571</td>\n",
       "      <td>3.701514</td>\n",
       "      <td>2.547220</td>\n",
       "      <td>0.014916</td>\n",
       "      <td>1.941553</td>\n",
       "      <td>16.915590</td>\n",
       "      <td>0.044083</td>\n",
       "      <td>True</td>\n",
       "    </tr>\n",
       "    <tr>\n",
       "      <th>change_trt3-change_trt2</th>\n",
       "      <td>6.071429</td>\n",
       "      <td>3.701514</td>\n",
       "      <td>1.640256</td>\n",
       "      <td>0.108994</td>\n",
       "      <td>-1.415590</td>\n",
       "      <td>13.558447</td>\n",
       "      <td>0.206109</td>\n",
       "      <td>False</td>\n",
       "    </tr>\n",
       "  </tbody>\n",
       "</table>\n",
       "</div>"
      ],
      "text/plain": [
       "                             coef   std err         t     P>|t|  \\\n",
       "change_trt2-change_trt1  3.357143  3.701514  0.906965  0.369995   \n",
       "change_trt3-change_trt1  9.428571  3.701514  2.547220  0.014916   \n",
       "change_trt3-change_trt2  6.071429  3.701514  1.640256  0.108994   \n",
       "\n",
       "                         Conf. Int. Low  Conf. Int. Upp.  pvalue-hs  reject-hs  \n",
       "change_trt2-change_trt1       -4.129875        10.844161   0.369995      False  \n",
       "change_trt3-change_trt1        1.941553        16.915590   0.044083       True  \n",
       "change_trt3-change_trt2       -1.415590        13.558447   0.206109      False  "
      ]
     },
     "execution_count": 23,
     "metadata": {},
     "output_type": "execute_result"
    }
   ],
   "source": [
    "# Performing pairwise T-test between all pairs of treatment groups in the model\n",
    "pair_t = model.t_test_pairwise('C(treatments)')\n",
    "pair_t.result_frame"
   ]
  },
  {
   "cell_type": "code",
   "execution_count": 24,
   "id": "fa663ad8",
   "metadata": {},
   "outputs": [
    {
     "name": "stdout",
     "output_type": "stream",
     "text": [
      "     Multiple Comparison of Means - Tukey HSD, FWER=0.05      \n",
      "==============================================================\n",
      "   group1      group2   meandiff p-adj   lower   upper  reject\n",
      "--------------------------------------------------------------\n",
      "change_trt1 change_trt2   3.3571 0.6392 -5.6609 12.3752  False\n",
      "change_trt1 change_trt3   9.4286 0.0388  0.4105 18.4466   True\n",
      "change_trt2 change_trt3   6.0714 0.2412 -2.9466 15.0895  False\n",
      "--------------------------------------------------------------\n"
     ]
    }
   ],
   "source": [
    "# Performing multiple comparisons between the treatment groups using Tukey's Honest Significant Difference (HSD) test\n",
    "mc = sm.stats.multicomp.MultiComparison(d_melt['value'],d_melt['treatments'])\n",
    "mc_results = mc.tukeyhsd()\n",
    "print(mc_results)"
   ]
  },
  {
   "cell_type": "markdown",
   "id": "06d37d5c",
   "metadata": {},
   "source": [
    "<h1><center> Interpretation of results from the ANOVA Analysis </center></h1>"
   ]
  },
  {
   "cell_type": "markdown",
   "id": "488c5ff3",
   "metadata": {},
   "source": [
    "\n",
    "## When compared with the other P- values The P -Value (0.014916) for trt_1 and trt_3 is statistically significant from the adjusted significant level.\n",
    "## So we reject the Null Hypotheses (i.e, Means for all the treatments are same) and Accepting the alternative Hypotheses (i.e, Atleast one pair has the different Mean).\n",
    "## So the trt_1 and trt_3 pair has the different Mean.\n",
    "\n"
   ]
  },
  {
   "cell_type": "markdown",
   "id": "dcf7bc0a",
   "metadata": {},
   "source": [
    "<h1><center> One - Way ANOVA : Assumption Checks </center></h1>"
   ]
  },
  {
   "cell_type": "markdown",
   "id": "01f90ce7",
   "metadata": {},
   "source": [
    "### Normality Check - Using Q-Q plot"
   ]
  },
  {
   "cell_type": "code",
   "execution_count": 26,
   "id": "10de0453",
   "metadata": {},
   "outputs": [
    {
     "data": {
      "image/png": "[encoded data removed]",
      "text/plain": [
       "<Figure size 640x480 with 1 Axes>"
      ]
     },
     "metadata": {},
     "output_type": "display_data"
    }
   ],
   "source": [
    "#accessing Residuals and generating the Q-Q plot for Visualizing the Normality\n",
    "res = model.resid\n",
    "fig = sm.qqplot(res, line='s')"
   ]
  },
  {
   "cell_type": "markdown",
   "id": "2c5c8efd",
   "metadata": {},
   "source": [
    "## Normality Check - using Histogram"
   ]
  },
  {
   "cell_type": "code",
   "execution_count": 27,
   "id": "42a5833d",
   "metadata": {},
   "outputs": [
    {
     "name": "stderr",
     "output_type": "stream",
     "text": [
      "C:\\Users\\Praveen Sheelam\\AppData\\Local\\Temp\\ipykernel_7844\\967990135.py:2: UserWarning: \n",
      "\n",
      "`distplot` is a deprecated function and will be removed in seaborn v0.14.0.\n",
      "\n",
      "Please adapt your code to use either `displot` (a figure-level function with\n",
      "similar flexibility) or `histplot` (an axes-level function for histograms).\n",
      "\n",
      "For a guide to updating your code to use the new functions, please see\n",
      "https://gist.github.com/mwaskom/de44147ed2974457ad6372750bbe5751\n",
      "\n",
      "  sns.distplot(res, bins = 'auto', hist = True)\n"
     ]
    },
    {
     "data": {
      "text/plain": [
       "<Axes: ylabel='Density'>"
      ]
     },
     "execution_count": 27,
     "metadata": {},
     "output_type": "execute_result"
    },
    {
     "data": {
      "image/png": "[encoded data removed]",
      "text/plain": [
       "<Figure size 640x480 with 1 Axes>"
      ]
     },
     "metadata": {},
     "output_type": "display_data"
    }
   ],
   "source": [
    "# visualizing the distribution of the residuals using a combination of a histogram and a kernel density estimation (KDE) curve.\n",
    "import seaborn as sns\n",
    "sns.distplot(res, bins = 'auto', hist = True)"
   ]
  },
  {
   "cell_type": "markdown",
   "id": "9848b8ba",
   "metadata": {},
   "source": [
    "## Normality Check - Using Shapiro-Wilk Test"
   ]
  },
  {
   "cell_type": "code",
   "execution_count": 28,
   "id": "5f60dfbd",
   "metadata": {},
   "outputs": [
    {
     "name": "stdout",
     "output_type": "stream",
     "text": [
      "0.1130359098315239\n"
     ]
    }
   ],
   "source": [
    "# Performing The Shapiro-Wilk test to assess the Normality\n",
    "\n",
    "from scipy import stats\n",
    "w, pvalue = stats.shapiro(model.resid)\n",
    "print (pvalue)\n"
   ]
  },
  {
   "cell_type": "markdown",
   "id": "0cbcd3da",
   "metadata": {},
   "source": [
    "### P-Value is Greater than Significance level so the data follows Normal Distribution"
   ]
  },
  {
   "cell_type": "markdown",
   "id": "d9657ebd",
   "metadata": {},
   "source": [
    "## Homogeneity Check - Using the Bartlett's Test"
   ]
  },
  {
   "cell_type": "code",
   "execution_count": 30,
   "id": "0767786b",
   "metadata": {},
   "outputs": [
    {
     "name": "stdout",
     "output_type": "stream",
     "text": [
      "0.23398966274644697\n"
     ]
    }
   ],
   "source": [
    "# Performing the Bartlett test of homogeneity of variances to assess whether the variances of the outcome variable are equal across the three treatment groups\n",
    "\n",
    "w, pvalue = stats.bartlett(d_melt['value'][d_melt['treatments'] == 'change_trt1'],\n",
    "                          d_melt['value'][d_melt['treatments'] == 'change_trt2'],\n",
    "                          d_melt['value'][d_melt['treatments'] == 'change_trt3'])\n",
    "print (pvalue)"
   ]
  },
  {
   "cell_type": "code",
   "execution_count": 31,
   "id": "5c0f8601",
   "metadata": {},
   "outputs": [
    {
     "name": "stdout",
     "output_type": "stream",
     "text": [
      "Bartlett's test:\tw: 2.9050, pvalue: 0.2340\n"
     ]
    }
   ],
   "source": [
    "# Printing The results of the Bartlett's test in the formatted manner\n",
    "\n",
    "print(\"Bartlett's test:\\tw:{:7.4f}, pvalue:{:7.4f}\".format(w, pvalue))"
   ]
  },
  {
   "cell_type": "markdown",
   "id": "f7fb8e5a",
   "metadata": {},
   "source": [
    "### P- value is more than the Significance Level -We fail to reject the Null Hypotheses.\n",
    "### So there is No violation of Homogeneity."
   ]
  },
  {
   "cell_type": "markdown",
   "id": "557bd96f",
   "metadata": {},
   "source": [
    "## Homogeneity Check - Using the Levene's Test"
   ]
  },
  {
   "cell_type": "code",
   "execution_count": 33,
   "id": "032db9c2",
   "metadata": {},
   "outputs": [
    {
     "name": "stdout",
     "output_type": "stream",
     "text": [
      "Levene's test:\t\tw: 1.3961, pvalue: 0.2597\n"
     ]
    }
   ],
   "source": [
    "#Performing the Levene's test of homogeneity of variances to assess whether the variances of the outcome variable are equal across the three treatment groups\n",
    "\n",
    "\n",
    "w, pvalue = stats.levene(d['change_trt1'],d['change_trt2'],d['change_trt3'])\n",
    "print(\"Levene's test:\\t\\tw:{:7.4f}, pvalue:{:7.4f}\".format(w, pvalue))\n"
   ]
  },
  {
   "cell_type": "markdown",
   "id": "06a63d9b",
   "metadata": {},
   "source": [
    "### P- value is more than the Significance Level -We fail to reject the Null Hypotheses.\n",
    "### So there is No violation of Homogeneity."
   ]
  },
  {
   "cell_type": "markdown",
   "id": "d64bdeb1",
   "metadata": {},
   "source": [
    "<h1><center> Conclusion </center></h1>"
   ]
  },
  {
   "cell_type": "markdown",
   "id": "c44c12eb",
   "metadata": {},
   "source": [
    "## Interpretation of Results from the Anova Analysis\n",
    "## We determined that at least two means are different in part, so we now conduct K=3(2)/2 =3 pairwise t- test that each use significance level = 0.05/3 =0.0167 for a significance level. \n",
    "## Based on the generated Hypotheses, the sample sizes are equal an dwe used the pooled SD, so we can can compute SE = 3.7 with the pooled df =39. \n",
    "## The P- value only for trt_1 and trt_3 may be statistically significant :0.01 < 0.014916 < 0.02. which is statistically significant from the adjusted significant level.\n",
    "## So we have identified Treatment 1( Four hours of sensory restriction plus a 15 minute \"therapeutic\" tape advising that professional help is available.) and Treatment 3( Four hours of sensory restriction but no taped message. ) as having different effects. By checking the other two comparisions, the differences are not statistically significant."
   ]
  },
  {
   "cell_type": "markdown",
   "id": "d691531f",
   "metadata": {},
   "source": [
    "<h1><center> Thank you..! </center></h1>"
   ]
  },
  {
   "cell_type": "code",
   "execution_count": null,
   "id": "8c06a685",
   "metadata": {},
   "outputs": [],
   "source": []
  }
 ],
 "metadata": {
  "kernelspec": {
   "display_name": "Python 3 (ipykernel)",
   "language": "python",
   "name": "python3"
  },
  "language_info": {
   "codemirror_mode": {
    "name": "ipython",
    "version": 3
   },
   "file_extension": ".py",
   "mimetype": "text/x-python",
   "name": "python",
   "nbconvert_exporter": "python",
   "pygments_lexer": "ipython3",
   "version": "3.11.5"
  }
 },
 "nbformat": 4,
 "nbformat_minor": 5
}
